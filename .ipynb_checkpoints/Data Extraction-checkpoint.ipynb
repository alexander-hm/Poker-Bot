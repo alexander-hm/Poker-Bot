{
 "cells": [
  {
   "cell_type": "code",
   "execution_count": 2,
   "id": "1691a5ce",
   "metadata": {},
   "outputs": [],
   "source": [
    "# See [https://www.kaggle.com/code/camillahorne/poker-data-extraction]\n",
    "\n",
    "# Generate input (x) and output (Y) data from the Poker Hold'Em Games dataset\n",
    "# For training and validating a machine learning model"
   ]
  },
  {
   "cell_type": "markdown",
   "id": "e553c2bd",
   "metadata": {},
   "source": [
    "The game state will be defined by the following parameters:\n",
    "\n",
    "Game Data\n",
    "- Players\n",
    "- Pot\n",
    "- Button\n",
    "\n",
    "Player Data\n",
    "- Money\n",
    "- Bet\n",
    "- Hand\n",
    "    - Card 1\n",
    "    - Card 2\n",
    "\n",
    "Opponent Data x8\n",
    "- Money\n",
    "- Action (Fold | Call | Raise | All-In)\n",
    "- Bet\n",
    "- Hand\n",
    "    - Card 1\n",
    "    - Card 2"
   ]
  },
  {
   "cell_type": "code",
   "execution_count": 3,
   "id": "bf7d2ed1",
   "metadata": {
    "_cell_guid": "b1076dfc-b9ad-4769-8c92-a6c4dae69d19",
    "_uuid": "8f2839f25d086af736a60e9eeb907d3b93b6e0e5",
    "execution": {
     "iopub.execute_input": "2023-09-07T19:34:11.978481Z",
     "iopub.status.busy": "2023-09-07T19:34:11.977847Z",
     "iopub.status.idle": "2023-09-07T19:34:11.983869Z",
     "shell.execute_reply": "2023-09-07T19:34:11.982232Z",
     "shell.execute_reply.started": "2023-09-07T19:34:11.978446Z"
    }
   },
   "outputs": [],
   "source": [
    "import pandas as pd\n",
    "import os\n",
    "import re\n",
    "from datetime import datetime\n",
    "import json\n",
    "import glob"
   ]
  },
  {
   "cell_type": "code",
   "execution_count": 11,
   "id": "8a4f6da8",
   "metadata": {
    "execution": {
     "iopub.execute_input": "2023-09-07T19:34:11.987166Z",
     "iopub.status.busy": "2023-09-07T19:34:11.986819Z",
     "iopub.status.idle": "2023-09-07T19:34:13.98613Z",
     "shell.execute_reply": "2023-09-07T19:34:13.985343Z",
     "shell.execute_reply.started": "2023-09-07T19:34:11.987136Z"
    }
   },
   "outputs": [
    {
     "name": "stdout",
     "output_type": "stream",
     "text": [
      "Total of 52156 games\n"
     ]
    }
   ],
   "source": [
    "def GetGamesData():\n",
    "    result = []\n",
    "    \n",
    "    for dirname, _, filenames in os.walk('*/Data/'):\n",
    "        for filename in filenames:\n",
    "            file = open(os.path.join(dirname, filename), 'r')\n",
    "            content = file.read()\n",
    "\n",
    "            result += re.findall(r'Game started at: (.+)\\nGame ID: (\\d+).+\\(Hold\\'em\\)\\nSeat (\\d+) is the button\\n((?:Seat .+\\n)+)([^$]+?)------ Summary ------\\n(Pot: .+?)\\n(?:(Board: .+?)\\n)?([^$]+?)Game ended at: (.+)', content)\n",
    "\n",
    "            file.close()\n",
    "    \n",
    "    print (\"Total of\", len(result), \"games\")\n",
    "    \n",
    "    return (result)\n",
    "\n",
    "games = GetGamesData()"
   ]
  },
  {
   "cell_type": "code",
   "execution_count": 14,
   "id": "c23afa66",
   "metadata": {
    "execution": {
     "iopub.execute_input": "2023-09-07T19:34:13.988733Z",
     "iopub.status.busy": "2023-09-07T19:34:13.987941Z",
     "iopub.status.idle": "2023-09-07T19:34:13.994899Z",
     "shell.execute_reply": "2023-09-07T19:34:13.993679Z",
     "shell.execute_reply.started": "2023-09-07T19:34:13.9887Z"
    }
   },
   "outputs": [],
   "source": [
    "datetimeFormat = '%Y/%m/%d %H:%M:%S'\n",
    "seatRe = re.compile(r\"Seat (\\d+): (.+) \\((\\d+(?:\\.\\d+)?)\\)\")\n",
    "betRe = re.compile(r\"Pot: (\\d+(?:\\.\\d+)?).+Rake (\\d+(?:\\.\\d+)?)(?:.+JP fee (\\d+(?:\\.\\d+)?))?\")\n",
    "boardRe = re.compile(r\"\\[([^]]*)\\]\")\n",
    "playerNameRe = re.compile(r\"Player ([^ ]+)\")\n",
    "actionRe = re.compile(r\"Player .+ ([^ ]+)s? \\((\\d+(?:\\.\\d+)?)\\)\")\n",
    "endingNumberRe = re.compile(r\".+\\((\\d+(?:\\.\\d+)?)\\)\")\n",
    "cardsRe = re.compile(r\".*\\[([^\\]]+)\\]\")\n",
    "winningRe = re.compile(r\"Player .+?(?: \\[(.+)\\])?\\)?\\. ?Bets: (\\d+(?:\\.\\d+)?)\\. Collects: (\\d+(?:\\.\\d+)?)\\.(?: Wins: (\\d+(?:\\.\\d+)?)\\.)?(?: Loses: (\\d+(?:\\.\\d+)?)\\.)?\")"
   ]
  },
  {
   "cell_type": "code",
   "execution_count": 15,
   "id": "00f0e9fd",
   "metadata": {
    "execution": {
     "iopub.execute_input": "2023-09-07T19:34:13.997241Z",
     "iopub.status.busy": "2023-09-07T19:34:13.996675Z",
     "iopub.status.idle": "2023-09-07T19:34:14.009866Z",
     "shell.execute_reply": "2023-09-07T19:34:14.008736Z",
     "shell.execute_reply.started": "2023-09-07T19:34:13.997203Z"
    }
   },
   "outputs": [],
   "source": [
    "def GetPlayerName(line):\n",
    "    match = playerNameRe.search(line)\n",
    "    \n",
    "    if match is None:\n",
    "        return \"\"\n",
    "    \n",
    "    return match.group(1)\n",
    "\n",
    "def GetDuration(startTime, endTime):\n",
    "    tStart = datetime.strptime(startTime, datetimeFormat)\n",
    "    tEnd = datetime.strptime(endTime, datetimeFormat)\n",
    "    tDelta = tEnd - tStart\n",
    "    return int(tDelta.total_seconds())\n",
    "\n",
    "def GetAsFloat(value):\n",
    "    return float(value if value else 0)"
   ]
  },
  {
   "cell_type": "code",
   "execution_count": 22,
   "id": "456ece0b",
   "metadata": {
    "execution": {
     "iopub.execute_input": "2023-09-07T19:34:14.013512Z",
     "iopub.status.busy": "2023-09-07T19:34:14.01309Z",
     "iopub.status.idle": "2023-09-07T19:34:14.024039Z",
     "shell.execute_reply": "2023-09-07T19:34:14.022707Z",
     "shell.execute_reply.started": "2023-09-07T19:34:14.013473Z"
    }
   },
   "outputs": [],
   "source": [
    "cards = {'1':1, '2':2, '3':3, '4':4, '5':5, '6':6, '7':7, '8':8, '9':9, '10':10, 'J':11, 'Q':12, 'K':13, 'A':14}\n",
    "suits = {'h' : 1, 'd' : 2, 'c' : 3, 's' : 4}\n",
    "actions = {'Fold' : 1, 'Call' : 2, 'Raise' : 3, 'All-In' : 4}\n",
    "\n",
    "def ClearDataframe():\n",
    "    global gameState\n",
    "    gameState = pd.DataFrame({'numPlayers': [], 'button': [], 'pot': [], 'position': [], 'money': [], 'stake': [], 'card1': [], 'card2': [], 'P1_money': [], 'P1_action': [], 'P1_bet': []})\n",
    "    \n",
    "    global action\n",
    "    action = pd.DataFrame({'action': [], 'bet': []})"
   ]
  },
  {
   "cell_type": "markdown",
   "id": "b289f075",
   "metadata": {},
   "source": [
    "Game Data\n",
    "- Players\n",
    "- Button\n",
    "- Pot\n",
    "\n",
    "Player Data\n",
    "- Position\n",
    "- Money\n",
    "- Bet\n",
    "- Hand\n",
    "    - Card 1\n",
    "    - Card 2\n",
    "\n",
    "Opponent Data x9?\n",
    "- Money\n",
    "- Action (Fold | Call | Raise | All-In)\n",
    "- Bet\n",
    "- (Hand not shown)"
   ]
  }
 ],
 "metadata": {
  "kernelspec": {
   "display_name": "Python 3 (ipykernel)",
   "language": "python",
   "name": "python3"
  },
  "language_info": {
   "codemirror_mode": {
    "name": "ipython",
    "version": 3
   },
   "file_extension": ".py",
   "mimetype": "text/x-python",
   "name": "python",
   "nbconvert_exporter": "python",
   "pygments_lexer": "ipython3",
   "version": "3.9.18"
  }
 },
 "nbformat": 4,
 "nbformat_minor": 5
}
