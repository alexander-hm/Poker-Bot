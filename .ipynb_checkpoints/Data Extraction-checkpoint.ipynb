{
 "cells": [
  {
   "cell_type": "code",
   "execution_count": 1,
   "id": "b03ab6af",
   "metadata": {},
   "outputs": [],
   "source": [
    "# Pandas for data extraction\n",
    "# Extract data from input into meta data types\n",
    "#   Game data\n",
    "#   Player data\n",
    "#   Turn data\n",
    "# See [https://www.kaggle.com/code/camillahorne/poker-data-extraction]\n",
    "# Use of regex likely"
   ]
  },
  {
   "cell_type": "code",
   "execution_count": null,
   "id": "e010d5e9",
   "metadata": {},
   "outputs": [],
   "source": [
    "import re\n",
    "\n",
    "# Function to parse the poker game data\n",
    "def parse_poker_game_data(poker_game_data):\n",
    "    game_info = {\n",
    "        \"game_start\": None,\n",
    "        \"game_id\": None,\n",
    "        \"button_seat\": None,\n",
    "        \"players\": {},\n",
    "        \"actions\": []\n",
    "    }\n",
    "    \n",
    "    # Regular expressions for parsing different lines\n",
    "    game_start_re = re.compile(r\"Game started at: (.+)\")\n",
    "    game_id_re = re.compile(r\"Game ID: (\\d+)\")\n",
    "    button_seat_re = re.compile(r\"Seat (\\d) is the button\")\n",
    "    player_seat_re = re.compile(r\"Seat (\\d): (\\w+) \\((\\d+.\\d+)\\).\")\n",
    "    player_blind_re = re.compile(r\"Player (\\w+) has (small|big) blind \\((\\d+)\\)\")\n",
    "    player_card_re = re.compile(r\"Player (\\w+) received card: \\[(\\w+)\\]\")"
   ]
  }
 ],
 "metadata": {
  "kernelspec": {
   "display_name": "Python 3 (ipykernel)",
   "language": "python",
   "name": "python3"
  },
  "language_info": {
   "codemirror_mode": {
    "name": "ipython",
    "version": 3
   },
   "file_extension": ".py",
   "mimetype": "text/x-python",
   "name": "python",
   "nbconvert_exporter": "python",
   "pygments_lexer": "ipython3",
   "version": "3.9.18"
  }
 },
 "nbformat": 4,
 "nbformat_minor": 5
}
