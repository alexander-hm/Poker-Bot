{
 "cells": [
  {
   "cell_type": "code",
   "execution_count": 1,
   "metadata": {},
   "outputs": [
    {
     "name": "stdout",
     "output_type": "stream",
     "text": [
      "Intel MKL WARNING: Support of Intel(R) Streaming SIMD Extensions 4.2 (Intel(R) SSE4.2) enabled only processors has been deprecated. Intel oneAPI Math Kernel Library 2025.0 will require Intel(R) Advanced Vector Extensions (Intel(R) AVX) instructions.\n",
      "Intel MKL WARNING: Support of Intel(R) Streaming SIMD Extensions 4.2 (Intel(R) SSE4.2) enabled only processors has been deprecated. Intel oneAPI Math Kernel Library 2025.0 will require Intel(R) Advanced Vector Extensions (Intel(R) AVX) instructions.\n"
     ]
    }
   ],
   "source": [
    "import matplotlib.pyplot as plt\n",
    "from IPython.display import display, clear_output\n",
    "import time\n",
    "\n",
    "from dumb_bots.honestbot import HonestBot\n",
    "from dumb_bots.randombot import RandomBot\n",
    "from PokerBotSimple import PokerBotSimple\n",
    "\n",
    "from pypokerengine.api.game import setup_config, start_poker"
   ]
  },
  {
   "cell_type": "code",
   "execution_count": 2,
   "metadata": {},
   "outputs": [],
   "source": [
    "\n",
    "def update_bar_chart(winnings, labels, game_num):\n",
    "    plt.figure(figsize=(8, 8))\n",
    "    plt.bar(labels, winnings, color='skyblue')\n",
    "\n",
    "    # Add labels and title\n",
    "    plt.xlabel('Winnings')\n",
    "    plt.ylabel('Values')\n",
    "    plt.title('Winnings After Game: ' + str(game_num))\n",
    "    plt.show()"
   ]
  },
  {
   "cell_type": "code",
   "execution_count": 3,
   "metadata": {},
   "outputs": [],
   "source": [
    "saved_model_to_test = \"./models/Daniel_Negreanu_FINAL\"\n",
    "INITIAL_STACK = 100"
   ]
  },
  {
   "cell_type": "code",
   "execution_count": 4,
   "metadata": {},
   "outputs": [
    {
     "name": "stdout",
     "output_type": "stream",
     "text": [
      "Loading model...:./models/Daniel_Negreanu_FINAL\n"
     ]
    },
    {
     "ename": "RuntimeError",
     "evalue": "Error(s) in loading state_dict for Linear_QNet:\n\tsize mismatch for fc1.weight: copying a param with shape torch.Size([64, 21]) from checkpoint, the shape in current model is torch.Size([64, 24]).",
     "output_type": "error",
     "traceback": [
      "\u001b[0;31m---------------------------------------------------------------------------\u001b[0m",
      "\u001b[0;31mRuntimeError\u001b[0m                              Traceback (most recent call last)",
      "\u001b[1;32m/Users/williamobrien/pokerbot/testing.ipynb Cell 4\u001b[0m line \u001b[0;36m1\n\u001b[0;32m----> <a href='vscode-notebook-cell:/Users/williamobrien/pokerbot/testing.ipynb#W0sZmlsZQ%3D%3D?line=0'>1</a>\u001b[0m player1 \u001b[39m=\u001b[39m PokerBotSimple(saved_model\u001b[39m=\u001b[39msaved_model_to_test, training_mode_on\u001b[39m=\u001b[39m \u001b[39mFalse\u001b[39;00m)\n\u001b[1;32m      <a href='vscode-notebook-cell:/Users/williamobrien/pokerbot/testing.ipynb#W0sZmlsZQ%3D%3D?line=1'>2</a>\u001b[0m player2 \u001b[39m=\u001b[39m RandomBot()\n\u001b[1;32m      <a href='vscode-notebook-cell:/Users/williamobrien/pokerbot/testing.ipynb#W0sZmlsZQ%3D%3D?line=2'>3</a>\u001b[0m player3 \u001b[39m=\u001b[39m HonestBot()\n",
      "File \u001b[0;32m~/pokerbot/PokerBotSimple.py:60\u001b[0m, in \u001b[0;36mPokerBotSimple.__init__\u001b[0;34m(self, saved_model, training_mode_on)\u001b[0m\n\u001b[1;32m     56\u001b[0m \u001b[39mdef\u001b[39;00m \u001b[39m__init__\u001b[39m(\u001b[39mself\u001b[39m, saved_model \u001b[39m=\u001b[39m \u001b[39mNone\u001b[39;00m, training_mode_on \u001b[39m=\u001b[39m \u001b[39mTrue\u001b[39;00m):\n\u001b[1;32m     57\u001b[0m     \n\u001b[1;32m     58\u001b[0m     \u001b[39m# Initialize model depending on if using saved model\u001b[39;00m\n\u001b[1;32m     59\u001b[0m     \u001b[39mif\u001b[39;00m saved_model \u001b[39m!=\u001b[39m \u001b[39mNone\u001b[39;00m:\n\u001b[0;32m---> 60\u001b[0m         \u001b[39mself\u001b[39m\u001b[39m.\u001b[39mmodel \u001b[39m=\u001b[39m DQNetwork(model_input_size, model_output_size, GAMMA, saved_model\u001b[39m=\u001b[39msaved_model)       \n\u001b[1;32m     61\u001b[0m     \u001b[39melse\u001b[39;00m:\n\u001b[1;32m     62\u001b[0m          \u001b[39mself\u001b[39m\u001b[39m.\u001b[39mmodel \u001b[39m=\u001b[39m DQNetwork(model_input_size, model_output_size, GAMMA)\n",
      "File \u001b[0;32m~/pokerbot/deepQnetwork.py:44\u001b[0m, in \u001b[0;36mDQNetwork.__init__\u001b[0;34m(self, model_input_size, model_output_size, gamma, saved_model)\u001b[0m\n\u001b[1;32m     42\u001b[0m     \u001b[39mprint\u001b[39m(\u001b[39m'\u001b[39m\u001b[39mLoading model...:\u001b[39m\u001b[39m'\u001b[39m \u001b[39m+\u001b[39m saved_model)\n\u001b[1;32m     43\u001b[0m     model_state \u001b[39m=\u001b[39m torch\u001b[39m.\u001b[39mload(saved_model)\n\u001b[0;32m---> 44\u001b[0m     \u001b[39mself\u001b[39m\u001b[39m.\u001b[39mmodel\u001b[39m.\u001b[39mload_state_dict(model_state)               \n\u001b[1;32m     45\u001b[0m \u001b[39m# set optimizer and loss functions for models\u001b[39;00m\n\u001b[1;32m     46\u001b[0m \u001b[39mself\u001b[39m\u001b[39m.\u001b[39moptimizer \u001b[39m=\u001b[39m optim\u001b[39m.\u001b[39mAdam(\u001b[39mself\u001b[39m\u001b[39m.\u001b[39mmodel\u001b[39m.\u001b[39mparameters(), lr\u001b[39m=\u001b[39m\u001b[39m0.001\u001b[39m)\n",
      "File \u001b[0;32m~/anaconda3/envs/pkrenv1/lib/python3.11/site-packages/torch/nn/modules/module.py:2152\u001b[0m, in \u001b[0;36mModule.load_state_dict\u001b[0;34m(self, state_dict, strict, assign)\u001b[0m\n\u001b[1;32m   2147\u001b[0m         error_msgs\u001b[39m.\u001b[39minsert(\n\u001b[1;32m   2148\u001b[0m             \u001b[39m0\u001b[39m, \u001b[39m'\u001b[39m\u001b[39mMissing key(s) in state_dict: \u001b[39m\u001b[39m{}\u001b[39;00m\u001b[39m. \u001b[39m\u001b[39m'\u001b[39m\u001b[39m.\u001b[39mformat(\n\u001b[1;32m   2149\u001b[0m                 \u001b[39m'\u001b[39m\u001b[39m, \u001b[39m\u001b[39m'\u001b[39m\u001b[39m.\u001b[39mjoin(\u001b[39mf\u001b[39m\u001b[39m'\u001b[39m\u001b[39m\"\u001b[39m\u001b[39m{\u001b[39;00mk\u001b[39m}\u001b[39;00m\u001b[39m\"\u001b[39m\u001b[39m'\u001b[39m \u001b[39mfor\u001b[39;00m k \u001b[39min\u001b[39;00m missing_keys)))\n\u001b[1;32m   2151\u001b[0m \u001b[39mif\u001b[39;00m \u001b[39mlen\u001b[39m(error_msgs) \u001b[39m>\u001b[39m \u001b[39m0\u001b[39m:\n\u001b[0;32m-> 2152\u001b[0m     \u001b[39mraise\u001b[39;00m \u001b[39mRuntimeError\u001b[39;00m(\u001b[39m'\u001b[39m\u001b[39mError(s) in loading state_dict for \u001b[39m\u001b[39m{}\u001b[39;00m\u001b[39m:\u001b[39m\u001b[39m\\n\u001b[39;00m\u001b[39m\\t\u001b[39;00m\u001b[39m{}\u001b[39;00m\u001b[39m'\u001b[39m\u001b[39m.\u001b[39mformat(\n\u001b[1;32m   2153\u001b[0m                        \u001b[39mself\u001b[39m\u001b[39m.\u001b[39m\u001b[39m__class__\u001b[39m\u001b[39m.\u001b[39m\u001b[39m__name__\u001b[39m, \u001b[39m\"\u001b[39m\u001b[39m\\n\u001b[39;00m\u001b[39m\\t\u001b[39;00m\u001b[39m\"\u001b[39m\u001b[39m.\u001b[39mjoin(error_msgs)))\n\u001b[1;32m   2154\u001b[0m \u001b[39mreturn\u001b[39;00m _IncompatibleKeys(missing_keys, unexpected_keys)\n",
      "\u001b[0;31mRuntimeError\u001b[0m: Error(s) in loading state_dict for Linear_QNet:\n\tsize mismatch for fc1.weight: copying a param with shape torch.Size([64, 21]) from checkpoint, the shape in current model is torch.Size([64, 24])."
     ]
    }
   ],
   "source": [
    "player1 = PokerBotSimple(saved_model=saved_model_to_test, training_mode_on= False)\n",
    "player2 = RandomBot()\n",
    "player3 = HonestBot()\n",
    "\n",
    "\n",
    "# # game = []\n",
    "# # winpercent = []\n",
    "dan_wins = 0\n",
    "random_wins = 0\n",
    "honest_wins = 0\n",
    "labels = ['Daniel Negreanu', 'RandomBot', 'HonestBot']\n",
    "winnings = [0, 0, 0]\n",
    "for i in range(1, 100):\n",
    "    config = setup_config(max_round=100, initial_stack=INITIAL_STACK, small_blind_amount=5)\n",
    "    config.register_player(name=\"Daniel Negreanu\", algorithm=player1)\n",
    "    config.register_player(name=\"RandomBot\", algorithm=player2)\n",
    "    config.register_player(name=\"HonestBot\", algorithm=player3)\n",
    "    game_result = start_poker(config, verbose=0)\n",
    "    for player_info in game_result[\"players\"]:\n",
    "        if player_info['name'] == \"Daniel Negreanu\":\n",
    "            winnings[0] += (player_info['stack'] - INITIAL_STACK)\n",
    "        if player_info['name'] == \"HonestBot\":\n",
    "            winnings[2] += (player_info['stack'] - INITIAL_STACK)\n",
    "        if player_info['name'] == \"RandomBot\":\n",
    "            winnings[1] += (player_info['stack'] - INITIAL_STACK)\n",
    "    update_bar_chart(winnings, labels, i)\n",
    "    time.sleep(0.5)\n",
    "    clear_output(wait=True)"
   ]
  }
 ],
 "metadata": {
  "kernelspec": {
   "display_name": "pkrenv1",
   "language": "python",
   "name": "python3"
  },
  "language_info": {
   "codemirror_mode": {
    "name": "ipython",
    "version": 3
   },
   "file_extension": ".py",
   "mimetype": "text/x-python",
   "name": "python",
   "nbconvert_exporter": "python",
   "pygments_lexer": "ipython3",
   "version": "3.11.5"
  }
 },
 "nbformat": 4,
 "nbformat_minor": 2
}
