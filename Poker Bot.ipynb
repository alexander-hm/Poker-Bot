{
 "cells": [
  {
   "cell_type": "markdown",
   "id": "265b80b8",
   "metadata": {},
   "source": [
    "# Poker Bot"
   ]
  },
  {
   "cell_type": "markdown",
   "id": "a8c663df",
   "metadata": {},
   "source": [
    "Poker Bot built using TensorFlow. Trained with reinforcement learning using the PyPokerEngine library."
   ]
  },
  {
   "cell_type": "markdown",
   "id": "7c383262",
   "metadata": {},
   "source": [
    "### Building the Poker AI"
   ]
  },
  {
   "cell_type": "code",
   "execution_count": 9,
   "id": "51373e79",
   "metadata": {},
   "outputs": [],
   "source": [
    "# Packages to install\n",
    "# pip install PyPokerEngine\n",
    "# pip install pyyaml h5py  # Required to save models in HDF5 format"
   ]
  },
  {
   "cell_type": "code",
   "execution_count": 33,
   "id": "bd570406",
   "metadata": {},
   "outputs": [],
   "source": [
    "import os\n",
    "import tensorflow as tf\n",
    "import matplotlib.pyplot as plt\n",
    "import numpy as np\n",
    "import collections\n",
    "from tensorflow import keras\n",
    "\n",
    "\n",
    "from tensorflow.keras import layers, losses\n",
    "from tensorflow.keras.layers import Dense, Flatten, Reshape, LeakyReLU\n",
    "from tensorflow.keras.models import Sequential, Model\n",
    "from tensorflow.keras.optimizers import Adam, RMSprop\n",
    "from collections import Counter\n",
    "from datetime import datetime\n",
    "import keras\n",
    "import keras.callbacks\n",
    "from keras.callbacks import TensorBoard"
   ]
  },
  {
   "cell_type": "code",
   "execution_count": 3,
   "id": "a0808836",
   "metadata": {},
   "outputs": [],
   "source": [
    "from pypokerengine.players import BasePokerPlayer\n",
    "from pypokerengine.api.emulator import Emulator\n",
    "from pypokerengine.utils.game_state_utils import restore_game_state"
   ]
  },
  {
   "cell_type": "code",
   "execution_count": 4,
   "id": "c8679991",
   "metadata": {},
   "outputs": [],
   "source": [
    "# Notes:\n",
    "\n",
    "# use tf.keras.callbacks.ModelCheckpoint to continually \n",
    "# save the model both during and at the end of training.\n",
    "# https://www.tensorflow.org/tutorials/keras/save_and_load"
   ]
  },
  {
   "cell_type": "markdown",
   "id": "f589aa6a",
   "metadata": {},
   "source": [
    "In this implementation, the feature vector's length is constant for every game state. The community cards are represented as 5 pairs of suit and rank features, with placeholders for missing cards. The action histories are aggregated into a fixed number of features."
   ]
  },
  {
   "cell_type": "code",
   "execution_count": 5,
   "id": "c0d66bb0",
   "metadata": {},
   "outputs": [],
   "source": [
    "# Define neural network architecture\n",
    "def create_model(input_shape):\n",
    "    model = tf.keras.Sequential([\n",
    "        tf.keras.layers.Dense(128, activation='relu', input_shape=input_shape),\n",
    "        tf.keras.layers.Dropout(0.5),\n",
    "        tf.keras.layers.Dense(64, activation='relu'),\n",
    "        tf.keras.layers.Dense(32, activation='relu'),\n",
    "        tf.keras.layers.Dense(3, activation='softmax')  # Assuming simple output (fold, call, or raise)\n",
    "    ])\n",
    "    model.compile(optimizer='adam', loss='categorical_crossentropy', metrics=['accuracy'])\n",
    "    return model"
   ]
  },
  {
   "cell_type": "code",
   "execution_count": 29,
   "id": "c95544df",
   "metadata": {},
   "outputs": [],
   "source": [
    "# Helper methods\n",
    "def flatten(x):\n",
    "        if isinstance(x, collections.Iterable):\n",
    "            return [a for i in x for a in flatten(i)]\n",
    "        else:\n",
    "            return [x]"
   ]
  },
  {
   "cell_type": "code",
   "execution_count": 45,
   "id": "fbb6f20f",
   "metadata": {},
   "outputs": [],
   "source": [
    "class PokerBot(BasePokerPlayer):\n",
    "    \n",
    "    # TODO: Read some saved state of the model to allow reinforcement learning over time\n",
    "    def __init__(self):\n",
    "        # Initialize model\n",
    "        self.model = create_model((34,))  # Input shape, adjust based on features\n",
    "    \n",
    "    # TODO: Look at Emulator implementation to make the model work with reinforcement learning\n",
    "    # Make an action based on the model output\n",
    "    def declare_action(self, valid_actions, hole_card, round_state):\n",
    "        # Prepare feature vector based on the game state\n",
    "        feature_vector = self._extract_features(hole_card, round_state)\n",
    "        print(\"input size: \" + str(len(feature_vector)))\n",
    "        print(\"input shape: \" + feature_vector.shape)\n",
    "        \n",
    "        \n",
    "        # Use the model to predict the action\n",
    "        action_probs = self.model.predict(feature_vector)\n",
    "        outcome = np.argmax(action_probs)\n",
    "        action_info = valid_actions[outcome]\n",
    "        action = action_info[\"action\"]\n",
    "        if outcome == 3:\n",
    "            # Scale raise to the confidence of the model\n",
    "            amount = action_info[\"amount\"][\"min\"] + (action_info[\"amount\"][\"max\"] - action_info[\"amount\"][\"min\"]) * action_probs[outcome]\n",
    "        else:\n",
    "            amount = action_info[\"amount\"]\n",
    "        \n",
    "        return action, amount\n",
    "    \n",
    "    # Setup Emulator object by registering game information\n",
    "    def receive_game_start_message(self, game_info):\n",
    "        return\n",
    "        \n",
    "        # Emulator skeleton code\n",
    "        player_num = game_info[\"player_num\"]\n",
    "        max_round = game_info[\"rule\"][\"max_round\"]\n",
    "        small_blind_amount = game_info[\"rule\"][\"small_blind_amount\"]\n",
    "        ante_amount = game_info[\"rule\"][\"ante\"]\n",
    "        blind_structure = game_info[\"rule\"][\"blind_structure\"]\n",
    "        \n",
    "        self.emulator = Emulator()\n",
    "        self.emulator.set_game_rule(player_num, max_round, small_blind_amount, ante_amount)\n",
    "        self.emulator.set_blind_structure(blind_structure)\n",
    "        \n",
    "        # Register algorithm of each player which used in the simulation.\n",
    "        for player_info in game_info[\"seats\"][\"players\"]:\n",
    "            self.emulator.register_player(player_info[\"uuid\"], PokerBot())\n",
    "\n",
    "    def receive_round_start_message(self, round_count, hole_card, seats):\n",
    "        pass\n",
    "\n",
    "    def receive_street_start_message(self, street, round_state):\n",
    "        pass\n",
    "\n",
    "    def receive_game_update_message(self, new_action, round_state):\n",
    "        pass\n",
    "    \n",
    "    def receive_round_result_message(self, winners, hand_info, round_state):\n",
    "        pass\n",
    "    \n",
    "    # Additional methods\n",
    "    \n",
    "    # Produce a feature vector of length 34\n",
    "    def _extract_features(self, hole_card, round_state):\n",
    "        # 4 Features from hole cards\n",
    "        hole_card_features = [self._card_to_feature(card) for card in hole_card]\n",
    "\n",
    "        # 10 Features from community cards (always represent 5 cards)\n",
    "        community_cards = round_state['community_card'] + [None] * (5 - len(round_state['community_card']))\n",
    "        community_card_features = [self._card_to_feature(card) if card else [0, 0] for card in community_cards]\n",
    "\n",
    "        # 8 Standard features\n",
    "        standard_features = [\n",
    "            round_state['round_count'],\n",
    "            round_state['pot']['main']['amount'],\n",
    "            sum([side_pot['amount'] for side_pot in round_state['pot']['side']]),\n",
    "            round_state['dealer_btn'],\n",
    "            round_state['small_blind_pos'],\n",
    "            round_state['big_blind_pos'],\n",
    "            round_state['small_blind_amount'],\n",
    "            self._street_to_feature(round_state['street'])\n",
    "        ]\n",
    "\n",
    "        # 8 Action history features (2 {# raises, # calls} for each betting stage: preflop, flop, turn, river)\n",
    "        action_history_features = self._aggregate_action_histories(round_state['action_histories'])\n",
    "\n",
    "        # Combine all features into a single fixed-size feature vector of length 34\n",
    "        # Flatten the list of lists\n",
    "        features = flatten(hole_card_features + community_card_features + standard_features + action_history_features)\n",
    "        print(\"features: \" + str(len(features)))\n",
    "        print(str(features))\n",
    "        return features\n",
    "    \n",
    "    def _card_to_feature(self, card):\n",
    "        # Convert card to a numerical feature\n",
    "        suits = {'C': 1, 'D': 2, 'H': 3, 'S': 4, 'None': 0}\n",
    "        ranks = {'2': 2, '3': 3, '4': 4, '5': 5, '6': 6, '7': 7, '8': 8, '9': 9, 'T': 10, 'J': 11, 'Q': 12, 'K': 13, 'A': 14, 'None': 0}\n",
    "        suit = suits.get(card[0], 0) if card else 0\n",
    "        rank = ranks.get(card[1], 0) if card else 0\n",
    "        return [suit, rank]\n",
    "    \n",
    "    def _street_to_feature(self, street):\n",
    "        # Convert street to a numerical feature\n",
    "        streets = {'preflop': 1, 'flop': 2, 'turn': 3, 'river': 4, 'showdown': 5}\n",
    "        return streets.get(street, 0)\n",
    "\n",
    "    def _aggregate_action_histories(self, action_histories):\n",
    "        '''\n",
    "        # Aggregate action histories into a fixed-length vector\n",
    "        # Example: Count the number of raises, calls, etc.\n",
    "        raise_count = sum(1 for action in action_histories.get('preflop', []) if action['action'] == 'raise')\n",
    "        call_count = sum(1 for action in action_histories.get('preflop', []) if action['action'] == 'call')\n",
    "        # Add more aggregated features as needed\n",
    "        # Ensure the length of this vector is fixed\n",
    "        return [raise_count, call_count]\n",
    "        '''\n",
    "        \n",
    "        # Initialize counts\n",
    "        raise_count = [0, 0, 0, 0]  # Preflop, Flop, Turn, River\n",
    "        call_count = [0, 0, 0, 0]\n",
    "        fold_count = [0, 0, 0, 0]\n",
    "\n",
    "        # Define rounds\n",
    "        rounds = ['preflop', 'flop', 'turn', 'river']\n",
    "\n",
    "        # Count actions in each round\n",
    "        for i, round in enumerate(rounds):\n",
    "            for action in action_histories.get(round, []):\n",
    "                if action['action'] == 'raise':\n",
    "                    raise_count[i] += 1\n",
    "                elif action['action'] == 'call':\n",
    "                    call_count[i] += 1\n",
    "                elif action['action'] == 'fold':\n",
    "                    fold_count[i] += 1\n",
    "\n",
    "        # Flatten and return\n",
    "        return raise_count + call_count + fold_count"
   ]
  },
  {
   "cell_type": "markdown",
   "id": "b1091405",
   "metadata": {},
   "source": [
    "### Simulating Games"
   ]
  },
  {
   "cell_type": "code",
   "execution_count": 46,
   "id": "36a9de4e",
   "metadata": {},
   "outputs": [
    {
     "name": "stdout",
     "output_type": "stream",
     "text": [
      "Started the round 1\n",
      "Street \"preflop\" started. (community card = [])\n",
      "features: 34\n",
      "[4, 9, 2, 8, 0, 0, 0, 0, 0, 0, 0, 0, 0, 0, 1, 15, 0, 0, 1, 2, 5, 1, 0, 0, 0, 0, 0, 0, 0, 0, 0, 0, 0, 0]\n",
      "input size: 34\n"
     ]
    },
    {
     "ename": "AttributeError",
     "evalue": "'list' object has no attribute 'shape'",
     "output_type": "error",
     "traceback": [
      "\u001b[1;31m---------------------------------------------------------------------------\u001b[0m",
      "\u001b[1;31mAttributeError\u001b[0m                            Traceback (most recent call last)",
      "Cell \u001b[1;32mIn[46], line 8\u001b[0m\n\u001b[0;32m      6\u001b[0m config\u001b[38;5;241m.\u001b[39mregister_player(name\u001b[38;5;241m=\u001b[39m\u001b[38;5;124m\"\u001b[39m\u001b[38;5;124mp2\u001b[39m\u001b[38;5;124m\"\u001b[39m, algorithm\u001b[38;5;241m=\u001b[39mPokerBot())\n\u001b[0;32m      7\u001b[0m config\u001b[38;5;241m.\u001b[39mregister_player(name\u001b[38;5;241m=\u001b[39m\u001b[38;5;124m\"\u001b[39m\u001b[38;5;124mp3\u001b[39m\u001b[38;5;124m\"\u001b[39m, algorithm\u001b[38;5;241m=\u001b[39mPokerBot())\n\u001b[1;32m----> 8\u001b[0m game_result \u001b[38;5;241m=\u001b[39m \u001b[43mstart_poker\u001b[49m\u001b[43m(\u001b[49m\u001b[43mconfig\u001b[49m\u001b[43m,\u001b[49m\u001b[43m \u001b[49m\u001b[43mverbose\u001b[49m\u001b[38;5;241;43m=\u001b[39;49m\u001b[38;5;241;43m1\u001b[39;49m\u001b[43m)\u001b[49m\n",
      "File \u001b[1;32m~\\anaconda3\\envs\\PokerBot\\lib\\site-packages\\pypokerengine\\api\\game.py:14\u001b[0m, in \u001b[0;36mstart_poker\u001b[1;34m(config, verbose)\u001b[0m\n\u001b[0;32m     12\u001b[0m \u001b[38;5;28;01mfor\u001b[39;00m info \u001b[38;5;129;01min\u001b[39;00m config\u001b[38;5;241m.\u001b[39mplayers_info:\n\u001b[0;32m     13\u001b[0m     dealer\u001b[38;5;241m.\u001b[39mregister_player(info[\u001b[38;5;124m\"\u001b[39m\u001b[38;5;124mname\u001b[39m\u001b[38;5;124m\"\u001b[39m], info[\u001b[38;5;124m\"\u001b[39m\u001b[38;5;124malgorithm\u001b[39m\u001b[38;5;124m\"\u001b[39m])\n\u001b[1;32m---> 14\u001b[0m result_message \u001b[38;5;241m=\u001b[39m \u001b[43mdealer\u001b[49m\u001b[38;5;241;43m.\u001b[39;49m\u001b[43mstart_game\u001b[49m\u001b[43m(\u001b[49m\u001b[43mconfig\u001b[49m\u001b[38;5;241;43m.\u001b[39;49m\u001b[43mmax_round\u001b[49m\u001b[43m)\u001b[49m\n\u001b[0;32m     15\u001b[0m \u001b[38;5;28;01mreturn\u001b[39;00m _format_result(result_message)\n",
      "File \u001b[1;32m~\\anaconda3\\envs\\PokerBot\\lib\\site-packages\\pypokerengine\\engine\\dealer.py:39\u001b[0m, in \u001b[0;36mDealer.start_game\u001b[1;34m(self, max_round)\u001b[0m\n\u001b[0;32m     37\u001b[0m   table \u001b[38;5;241m=\u001b[39m \u001b[38;5;28mself\u001b[39m\u001b[38;5;241m.\u001b[39m__exclude_short_of_money_players(table, ante, sb_amount)\n\u001b[0;32m     38\u001b[0m   \u001b[38;5;28;01mif\u001b[39;00m \u001b[38;5;28mself\u001b[39m\u001b[38;5;241m.\u001b[39m__is_game_finished(table): \u001b[38;5;28;01mbreak\u001b[39;00m\n\u001b[1;32m---> 39\u001b[0m   table \u001b[38;5;241m=\u001b[39m \u001b[38;5;28;43mself\u001b[39;49m\u001b[38;5;241;43m.\u001b[39;49m\u001b[43mplay_round\u001b[49m\u001b[43m(\u001b[49m\u001b[43mround_count\u001b[49m\u001b[43m,\u001b[49m\u001b[43m \u001b[49m\u001b[43msb_amount\u001b[49m\u001b[43m,\u001b[49m\u001b[43m \u001b[49m\u001b[43mante\u001b[49m\u001b[43m,\u001b[49m\u001b[43m \u001b[49m\u001b[43mtable\u001b[49m\u001b[43m)\u001b[49m\n\u001b[0;32m     40\u001b[0m   table\u001b[38;5;241m.\u001b[39mshift_dealer_btn()\n\u001b[0;32m     41\u001b[0m \u001b[38;5;28;01mreturn\u001b[39;00m \u001b[38;5;28mself\u001b[39m\u001b[38;5;241m.\u001b[39m__generate_game_result(max_round, table\u001b[38;5;241m.\u001b[39mseats)\n",
      "File \u001b[1;32m~\\anaconda3\\envs\\PokerBot\\lib\\site-packages\\pypokerengine\\engine\\dealer.py:48\u001b[0m, in \u001b[0;36mDealer.play_round\u001b[1;34m(self, round_count, blind_amount, ante, table)\u001b[0m\n\u001b[0;32m     46\u001b[0m \u001b[38;5;28mself\u001b[39m\u001b[38;5;241m.\u001b[39m__message_check(msgs, state[\u001b[38;5;124m\"\u001b[39m\u001b[38;5;124mstreet\u001b[39m\u001b[38;5;124m\"\u001b[39m])\n\u001b[0;32m     47\u001b[0m \u001b[38;5;28;01mif\u001b[39;00m state[\u001b[38;5;124m\"\u001b[39m\u001b[38;5;124mstreet\u001b[39m\u001b[38;5;124m\"\u001b[39m] \u001b[38;5;241m!=\u001b[39m Const\u001b[38;5;241m.\u001b[39mStreet\u001b[38;5;241m.\u001b[39mFINISHED:  \u001b[38;5;66;03m# continue the round\u001b[39;00m\n\u001b[1;32m---> 48\u001b[0m   action, bet_amount \u001b[38;5;241m=\u001b[39m \u001b[38;5;28;43mself\u001b[39;49m\u001b[38;5;241;43m.\u001b[39;49m\u001b[43m__publish_messages\u001b[49m\u001b[43m(\u001b[49m\u001b[43mmsgs\u001b[49m\u001b[43m)\u001b[49m\n\u001b[0;32m     49\u001b[0m   state, msgs \u001b[38;5;241m=\u001b[39m RoundManager\u001b[38;5;241m.\u001b[39mapply_action(state, action, bet_amount)\n\u001b[0;32m     50\u001b[0m \u001b[38;5;28;01melse\u001b[39;00m:  \u001b[38;5;66;03m# finish the round after publish round result\u001b[39;00m\n",
      "File \u001b[1;32m~\\anaconda3\\envs\\PokerBot\\lib\\site-packages\\pypokerengine\\engine\\dealer.py:103\u001b[0m, in \u001b[0;36mDealer.__publish_messages\u001b[1;34m(self, msgs)\u001b[0m\n\u001b[0;32m    101\u001b[0m   \u001b[38;5;28mself\u001b[39m\u001b[38;5;241m.\u001b[39mmessage_handler\u001b[38;5;241m.\u001b[39mprocess_message(address, msg)\n\u001b[0;32m    102\u001b[0m \u001b[38;5;28mself\u001b[39m\u001b[38;5;241m.\u001b[39mmessage_summarizer\u001b[38;5;241m.\u001b[39msummarize_messages(msgs)\n\u001b[1;32m--> 103\u001b[0m \u001b[38;5;28;01mreturn\u001b[39;00m \u001b[38;5;28;43mself\u001b[39;49m\u001b[38;5;241;43m.\u001b[39;49m\u001b[43mmessage_handler\u001b[49m\u001b[38;5;241;43m.\u001b[39;49m\u001b[43mprocess_message\u001b[49m\u001b[43m(\u001b[49m\u001b[38;5;241;43m*\u001b[39;49m\u001b[43mmsgs\u001b[49m\u001b[43m[\u001b[49m\u001b[38;5;241;43m-\u001b[39;49m\u001b[38;5;241;43m1\u001b[39;49m\u001b[43m]\u001b[49m\u001b[43m)\u001b[49m\n",
      "File \u001b[1;32m~\\anaconda3\\envs\\PokerBot\\lib\\site-packages\\pypokerengine\\engine\\dealer.py:191\u001b[0m, in \u001b[0;36mMessageHandler.process_message\u001b[1;34m(self, address, msg)\u001b[0m\n\u001b[0;32m    189\u001b[0m \u001b[38;5;28;01mfor\u001b[39;00m receiver \u001b[38;5;129;01min\u001b[39;00m receivers:\n\u001b[0;32m    190\u001b[0m   \u001b[38;5;28;01mif\u001b[39;00m msg[\u001b[38;5;124m\"\u001b[39m\u001b[38;5;124mtype\u001b[39m\u001b[38;5;124m\"\u001b[39m] \u001b[38;5;241m==\u001b[39m \u001b[38;5;124m'\u001b[39m\u001b[38;5;124mask\u001b[39m\u001b[38;5;124m'\u001b[39m:\n\u001b[1;32m--> 191\u001b[0m     \u001b[38;5;28;01mreturn\u001b[39;00m \u001b[43mreceiver\u001b[49m\u001b[38;5;241;43m.\u001b[39;49m\u001b[43mrespond_to_ask\u001b[49m\u001b[43m(\u001b[49m\u001b[43mmsg\u001b[49m\u001b[43m[\u001b[49m\u001b[38;5;124;43m\"\u001b[39;49m\u001b[38;5;124;43mmessage\u001b[39;49m\u001b[38;5;124;43m\"\u001b[39;49m\u001b[43m]\u001b[49m\u001b[43m)\u001b[49m\n\u001b[0;32m    192\u001b[0m   \u001b[38;5;28;01melif\u001b[39;00m msg[\u001b[38;5;124m\"\u001b[39m\u001b[38;5;124mtype\u001b[39m\u001b[38;5;124m\"\u001b[39m] \u001b[38;5;241m==\u001b[39m \u001b[38;5;124m'\u001b[39m\u001b[38;5;124mnotification\u001b[39m\u001b[38;5;124m'\u001b[39m:\n\u001b[0;32m    193\u001b[0m     receiver\u001b[38;5;241m.\u001b[39mreceive_notification(msg[\u001b[38;5;124m\"\u001b[39m\u001b[38;5;124mmessage\u001b[39m\u001b[38;5;124m\"\u001b[39m])\n",
      "File \u001b[1;32m~\\anaconda3\\envs\\PokerBot\\lib\\site-packages\\pypokerengine\\players.py:48\u001b[0m, in \u001b[0;36mBasePokerPlayer.respond_to_ask\u001b[1;34m(self, message)\u001b[0m\n\u001b[0;32m     46\u001b[0m \u001b[38;5;250m\u001b[39m\u001b[38;5;124;03m\"\"\"Called from Dealer when ask message received from RoundManager\"\"\"\u001b[39;00m\n\u001b[0;32m     47\u001b[0m valid_actions, hole_card, round_state \u001b[38;5;241m=\u001b[39m \u001b[38;5;28mself\u001b[39m\u001b[38;5;241m.\u001b[39m__parse_ask_message(message)\n\u001b[1;32m---> 48\u001b[0m \u001b[38;5;28;01mreturn\u001b[39;00m \u001b[38;5;28;43mself\u001b[39;49m\u001b[38;5;241;43m.\u001b[39;49m\u001b[43mdeclare_action\u001b[49m\u001b[43m(\u001b[49m\u001b[43mvalid_actions\u001b[49m\u001b[43m,\u001b[49m\u001b[43m \u001b[49m\u001b[43mhole_card\u001b[49m\u001b[43m,\u001b[49m\u001b[43m \u001b[49m\u001b[43mround_state\u001b[49m\u001b[43m)\u001b[49m\n",
      "Cell \u001b[1;32mIn[45], line 14\u001b[0m, in \u001b[0;36mPokerBot.declare_action\u001b[1;34m(self, valid_actions, hole_card, round_state)\u001b[0m\n\u001b[0;32m     12\u001b[0m feature_vector \u001b[38;5;241m=\u001b[39m \u001b[38;5;28mself\u001b[39m\u001b[38;5;241m.\u001b[39m_extract_features(hole_card, round_state)\n\u001b[0;32m     13\u001b[0m \u001b[38;5;28mprint\u001b[39m(\u001b[38;5;124m\"\u001b[39m\u001b[38;5;124minput size: \u001b[39m\u001b[38;5;124m\"\u001b[39m \u001b[38;5;241m+\u001b[39m \u001b[38;5;28mstr\u001b[39m(\u001b[38;5;28mlen\u001b[39m(feature_vector)))\n\u001b[1;32m---> 14\u001b[0m \u001b[38;5;28mprint\u001b[39m(\u001b[38;5;124m\"\u001b[39m\u001b[38;5;124minput shape: \u001b[39m\u001b[38;5;124m\"\u001b[39m \u001b[38;5;241m+\u001b[39m \u001b[43mfeature_vector\u001b[49m\u001b[38;5;241;43m.\u001b[39;49m\u001b[43mshape\u001b[49m)\n\u001b[0;32m     17\u001b[0m \u001b[38;5;66;03m# Use the model to predict the action\u001b[39;00m\n\u001b[0;32m     18\u001b[0m action_probs \u001b[38;5;241m=\u001b[39m \u001b[38;5;28mself\u001b[39m\u001b[38;5;241m.\u001b[39mmodel\u001b[38;5;241m.\u001b[39mpredict(feature_vector)\n",
      "\u001b[1;31mAttributeError\u001b[0m: 'list' object has no attribute 'shape'"
     ]
    }
   ],
   "source": [
    "from pypokerengine.api.game import setup_config, start_poker\n",
    "\n",
    "# Declare game setup paramers\n",
    "config = setup_config(max_round=10, initial_stack=100, small_blind_amount=5)\n",
    "config.register_player(name=\"p1\", algorithm=PokerBot())\n",
    "config.register_player(name=\"p2\", algorithm=PokerBot())\n",
    "config.register_player(name=\"p3\", algorithm=PokerBot())\n",
    "game_result = start_poker(config, verbose=1)"
   ]
  }
 ],
 "metadata": {
  "kernelspec": {
   "display_name": "Python 3 (ipykernel)",
   "language": "python",
   "name": "python3"
  },
  "language_info": {
   "codemirror_mode": {
    "name": "ipython",
    "version": 3
   },
   "file_extension": ".py",
   "mimetype": "text/x-python",
   "name": "python",
   "nbconvert_exporter": "python",
   "pygments_lexer": "ipython3",
   "version": "3.9.18"
  }
 },
 "nbformat": 4,
 "nbformat_minor": 5
}
