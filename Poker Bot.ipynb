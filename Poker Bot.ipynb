{
 "cells": [
  {
   "cell_type": "markdown",
   "id": "e48735fe",
   "metadata": {},
   "source": [
    "Poker Bot built using TensorFlow. Trained with reinforcement learning using the PyPokerEngine library."
   ]
  },
  {
   "cell_type": "code",
   "execution_count": 2,
   "id": "8e4d3653",
   "metadata": {},
   "outputs": [],
   "source": [
    "# Packages to install\n",
    "# pip install PyPokerEngine\n",
    "# pip install pyyaml h5py  # Required to save models in HDF5 format"
   ]
  },
  {
   "cell_type": "code",
   "execution_count": 5,
   "id": "b23a41a3",
   "metadata": {},
   "outputs": [
    {
     "data": {
      "text/plain": [
       "'\\nfrom tensorflow.keras import layers, losses\\nfrom tensorflow.keras.layers import Dense, Flatten, Reshape, LeakyReLU\\nfrom tensorflow.keras.models import Sequential, Model\\nfrom tensorflow.keras.optimizers import Adam, RMSprop\\nfrom collections import Counter\\nfrom datetime import datetime\\nimport keras\\nimport keras.callbacks\\nfrom keras.callbacks import TensorBoard\\n'"
      ]
     },
     "execution_count": 5,
     "metadata": {},
     "output_type": "execute_result"
    }
   ],
   "source": [
    "import os\n",
    "import tensorflow as tf\n",
    "import matplotlib.pyplot as plt\n",
    "import numpy as np\n",
    "from tensorflow import keras\n",
    "\n",
    "'''\n",
    "from tensorflow.keras import layers, losses\n",
    "from tensorflow.keras.layers import Dense, Flatten, Reshape, LeakyReLU\n",
    "from tensorflow.keras.models import Sequential, Model\n",
    "from tensorflow.keras.optimizers import Adam, RMSprop\n",
    "from collections import Counter\n",
    "from datetime import datetime\n",
    "import keras\n",
    "import keras.callbacks\n",
    "from keras.callbacks import TensorBoard\n",
    "'''"
   ]
  },
  {
   "cell_type": "code",
   "execution_count": 6,
   "id": "00e105bc",
   "metadata": {},
   "outputs": [],
   "source": [
    "from pypokerengine.players import BasePokerPlayer\n",
    "from pypokerengine.api.emulator import Emulator\n",
    "from pypokerengine.utils.game_state_utils import restore_game_state"
   ]
  },
  {
   "cell_type": "code",
   "execution_count": null,
   "id": "c25e70ea",
   "metadata": {},
   "outputs": [],
   "source": [
    "# Notes:\n",
    "\n",
    "# use tf.keras.callbacks.ModelCheckpoint to continually \n",
    "# save the model both during and at the end of training.\n",
    "# https://www.tensorflow.org/tutorials/keras/save_and_load\n",
    "\n"
   ]
  }
 ],
 "metadata": {
  "kernelspec": {
   "display_name": "Python 3 (ipykernel)",
   "language": "python",
   "name": "python3"
  },
  "language_info": {
   "codemirror_mode": {
    "name": "ipython",
    "version": 3
   },
   "file_extension": ".py",
   "mimetype": "text/x-python",
   "name": "python",
   "nbconvert_exporter": "python",
   "pygments_lexer": "ipython3",
   "version": "3.9.18"
  }
 },
 "nbformat": 4,
 "nbformat_minor": 5
}
