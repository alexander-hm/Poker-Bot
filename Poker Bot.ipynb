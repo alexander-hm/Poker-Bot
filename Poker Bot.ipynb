{
 "cells": [
  {
   "cell_type": "markdown",
   "id": "a8c663df",
   "metadata": {},
   "source": [
    "Poker Bot built using TensorFlow. Trained with reinforcement learning using the PyPokerEngine library."
   ]
  },
  {
   "cell_type": "code",
   "execution_count": 2,
   "id": "51373e79",
   "metadata": {},
   "outputs": [],
   "source": [
    "# Packages to install\n",
    "# pip install PyPokerEngine\n",
    "# pip install pyyaml h5py  # Required to save models in HDF5 format"
   ]
  },
  {
   "cell_type": "code",
   "execution_count": 5,
   "id": "bd570406",
   "metadata": {},
   "outputs": [
    {
     "data": {
      "text/plain": [
       "'\\nfrom tensorflow.keras import layers, losses\\nfrom tensorflow.keras.layers import Dense, Flatten, Reshape, LeakyReLU\\nfrom tensorflow.keras.models import Sequential, Model\\nfrom tensorflow.keras.optimizers import Adam, RMSprop\\nfrom collections import Counter\\nfrom datetime import datetime\\nimport keras\\nimport keras.callbacks\\nfrom keras.callbacks import TensorBoard\\n'"
      ]
     },
     "execution_count": 5,
     "metadata": {},
     "output_type": "execute_result"
    }
   ],
   "source": [
    "import os\n",
    "import tensorflow as tf\n",
    "import matplotlib.pyplot as plt\n",
    "import numpy as np\n",
    "from tensorflow import keras\n",
    "\n",
    "'''\n",
    "from tensorflow.keras import layers, losses\n",
    "from tensorflow.keras.layers import Dense, Flatten, Reshape, LeakyReLU\n",
    "from tensorflow.keras.models import Sequential, Model\n",
    "from tensorflow.keras.optimizers import Adam, RMSprop\n",
    "from collections import Counter\n",
    "from datetime import datetime\n",
    "import keras\n",
    "import keras.callbacks\n",
    "from keras.callbacks import TensorBoard\n",
    "'''"
   ]
  },
  {
   "cell_type": "code",
   "execution_count": 6,
   "id": "a0808836",
   "metadata": {},
   "outputs": [],
   "source": [
    "from pypokerengine.players import BasePokerPlayer\n",
    "from pypokerengine.api.emulator import Emulator\n",
    "from pypokerengine.utils.game_state_utils import restore_game_state"
   ]
  },
  {
   "cell_type": "code",
   "execution_count": null,
   "id": "c8679991",
   "metadata": {},
   "outputs": [],
   "source": [
    "# Notes:\n",
    "\n",
    "# use tf.keras.callbacks.ModelCheckpoint to continually \n",
    "# save the model both during and at the end of training.\n",
    "# https://www.tensorflow.org/tutorials/keras/save_and_load"
   ]
  },
  {
   "cell_type": "code",
   "execution_count": null,
   "id": "fbb6f20f",
   "metadata": {},
   "outputs": [],
   "source": [
    "class PokerBot(BasePokerPlayer):\n",
    "    \n",
    "    # Six abstract BasePokerPlayer methods to be implemented below\n",
    "    \n",
    "    #  we define the logic to make an action through this method. (so this method would be the core of your AI)\n",
    "    def declare_action(self, valid_actions, hole_card, round_state):\n",
    "        game_state = restore_game_state(round_state)\n",
    "        # decide action by using some simulation result\n",
    "        # updated_state, events = self.emulator.apply_action(game_state, \"fold\")\n",
    "        # updated_state, events = self.emulator.run_until_round_finish(game_state)\n",
    "        # updated_state, events = self.emulator.run_until_game_finish(game_state)\n",
    "        if self.is_good_simulation_result(updated_state):\n",
    "            return # you would declare CALL or RAISE action\n",
    "        else:\n",
    "            return \"fold\", 0\n",
    "        \n",
    "        err_msg = self.__build_err_msg(\"declare_action\")\n",
    "        raise NotImplementedError(err_msg)\n",
    "\n",
    "    # Setup Emulator object by registering game information\n",
    "    def receive_game_start_message(self, game_info):\n",
    "        player_num = game_info[\"player_num\"]\n",
    "        max_round = game_info[\"rule\"][\"max_round\"]\n",
    "        small_blind_amount = game_info[\"rule\"][\"small_blind_amount\"]\n",
    "        ante_amount = game_info[\"rule\"][\"ante\"]\n",
    "        blind_structure = game_info[\"rule\"][\"blind_structure\"]\n",
    "        \n",
    "        self.emulator = Emulator()\n",
    "        self.emulator.set_game_rule(player_num, max_round, small_blind_amount, ante_amount)\n",
    "        self.emulator.set_blind_structure(blind_structure)\n",
    "        \n",
    "        # Register algorithm of each player which used in the simulation.\n",
    "        # Need some algorithm for each other player?\n",
    "        # for player_info in game_info[\"seats\"][\"players\"]:\n",
    "        #    self.emulator.register_player(player_info[\"uuid\"], SomePlayerModel())\n",
    "        \n",
    "        err_msg = self.__build_err_msg(\"receive_game_start_message\")\n",
    "        raise NotImplementedError(err_msg)\n",
    "\n",
    "    def receive_round_start_message(self, round_count, hole_card, seats):\n",
    "        err_msg = self.__build_err_msg(\"receive_round_start_message\")\n",
    "        raise NotImplementedError(err_msg)\n",
    "\n",
    "    def receive_street_start_message(self, street, round_state):\n",
    "        err_msg = self.__build_err_msg(\"receive_street_start_message\")\n",
    "        raise NotImplementedError(err_msg)\n",
    "\n",
    "    def receive_game_update_message(self, new_action, round_state):\n",
    "        err_msg = self.__build_err_msg(\"receive_game_update_message\")\n",
    "        raise NotImplementedError(err_msg)\n",
    "\n",
    "    def receive_round_result_message(self, winners, hand_info, round_state):\n",
    "        err_msg = self.__build_err_msg(\"receive_round_result_message\")\n",
    "        raise NotImplementedError(err_msg)\n"
   ]
  }
 ],
 "metadata": {
  "kernelspec": {
   "display_name": "Python 3 (ipykernel)",
   "language": "python",
   "name": "python3"
  },
  "language_info": {
   "codemirror_mode": {
    "name": "ipython",
    "version": 3
   },
   "file_extension": ".py",
   "mimetype": "text/x-python",
   "name": "python",
   "nbconvert_exporter": "python",
   "pygments_lexer": "ipython3",
   "version": "3.9.18"
  }
 },
 "nbformat": 4,
 "nbformat_minor": 5
}
