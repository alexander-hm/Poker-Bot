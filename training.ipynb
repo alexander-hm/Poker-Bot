{
 "cells": [
  {
   "cell_type": "code",
   "execution_count": null,
   "metadata": {},
   "outputs": [],
   "source": [
    "import random\n",
    "import collections\n",
    "import torch\n",
    "import numpy as np\n",
    "from typing import Iterable\n",
    "\n",
    "from pypokerengine.players import BasePokerPlayer\n",
    "from pypokerengine.utils.card_utils import estimate_hole_card_win_rate, gen_cards\n",
    "from pypokerengine.api.game import setup_config, start_poker\n",
    "\n",
    "import deepQnetwork\n",
    "from PokerBotSimple import PokerBotSimple\n",
    "\n",
    "\n",
    "\n",
    "%run PokerBotSimple.py\n",
    "%run deepQnetwork.py\n"
   ]
  },
  {
   "cell_type": "code",
   "execution_count": null,
   "metadata": {},
   "outputs": [],
   "source": [
    "NUM_EPISODES = 400\n",
    "INITIAL_STACK = 100\n",
    "\n",
    "model_file_name = './model/Daniel_Negreanu'\n"
   ]
  },
  {
   "cell_type": "code",
   "execution_count": null,
   "metadata": {},
   "outputs": [],
   "source": [
    "\n",
    "#create models to train\n",
    "\n",
    "player1 = PokerBotSimple()\n",
    "player2 = PokerBotSimple()\n",
    "player3 = PokerBotSimple()\n",
    "\n",
    "for e in range(NUM_EPISODES):\n",
    "    print(\"Starting Episode: \" + str(e+1))\n",
    "    # Declare game setup paramers\n",
    "    config = setup_config(max_round=100, initial_stack=INITIAL_STACK, small_blind_amount=5)\n",
    "    config.register_player(name = 'p1', algorithm=player1)\n",
    "    config.register_player(name = 'p2', algorithm=player2)\n",
    "    config.register_player(name = 'p3', algorithm=player3)\n",
    "\n",
    "    # play poker game \n",
    "    \n",
    "    game_result = start_poker(config, verbose=0)\n",
    "    \n",
    "\n",
    "    player1.train_long_mem()\n",
    "    player2.train_long_mem()\n",
    "    player2.train_long_mem()\n",
    "\n",
    "    if e % 100 == 0 and e != 0:\n",
    "        player1.save_agent(\"./models/\" + model_file_name)\n",
    "\n",
    "player1.save_agent(\"./models/\" + model_file_name)"
   ]
  }
 ],
 "metadata": {
  "kernelspec": {
   "display_name": "pkrenv1",
   "language": "python",
   "name": "python3"
  },
  "language_info": {
   "codemirror_mode": {
    "name": "ipython",
    "version": 3
   },
   "file_extension": ".py",
   "mimetype": "text/x-python",
   "name": "python",
   "nbconvert_exporter": "python",
   "pygments_lexer": "ipython3",
   "version": "3.11.5"
  }
 },
 "nbformat": 4,
 "nbformat_minor": 2
}
