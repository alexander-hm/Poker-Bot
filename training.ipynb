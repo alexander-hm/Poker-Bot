{
 "cells": [
  {
   "cell_type": "code",
   "execution_count": 1,
   "metadata": {},
   "outputs": [
    {
     "name": "stdout",
     "output_type": "stream",
     "text": [
      "Intel MKL WARNING: Support of Intel(R) Streaming SIMD Extensions 4.2 (Intel(R) SSE4.2) enabled only processors has been deprecated. Intel oneAPI Math Kernel Library 2025.0 will require Intel(R) Advanced Vector Extensions (Intel(R) AVX) instructions.\n",
      "Intel MKL WARNING: Support of Intel(R) Streaming SIMD Extensions 4.2 (Intel(R) SSE4.2) enabled only processors has been deprecated. Intel oneAPI Math Kernel Library 2025.0 will require Intel(R) Advanced Vector Extensions (Intel(R) AVX) instructions.\n"
     ]
    }
   ],
   "source": [
    "import random\n",
    "import collections\n",
    "import torch\n",
    "import numpy as np\n",
    "from typing import Iterable\n",
    "from IPython.display import display, clear_output\n",
    "\n",
    "from pypokerengine.players import BasePokerPlayer\n",
    "from pypokerengine.utils.card_utils import estimate_hole_card_win_rate, gen_cards\n",
    "from pypokerengine.api.game import setup_config, start_poker\n",
    "\n",
    "import deepQnetwork\n",
    "from PokerBotSimple import PokerBotSimple\n",
    "\n",
    "\n",
    "\n",
    "%run PokerBotSimple.py\n",
    "%run deepQnetwork.py\n"
   ]
  },
  {
   "cell_type": "code",
   "execution_count": 2,
   "metadata": {},
   "outputs": [],
   "source": [
    "NUM_EPISODES = 400\n",
    "INITIAL_STACK = 100\n",
    "\n",
    "model_file_name = 'Daniel_Negreanu'\n"
   ]
  },
  {
   "cell_type": "code",
   "execution_count": 3,
   "metadata": {},
   "outputs": [
    {
     "name": "stdout",
     "output_type": "stream",
     "text": [
      "Starting Episode: 400\n"
     ]
    }
   ],
   "source": [
    "\n",
    "#create models to train\n",
    "\n",
    "player1 = PokerBotSimple()\n",
    "player2 = PokerBotSimple()\n",
    "player3 = PokerBotSimple()\n",
    "\n",
    "for e in range(NUM_EPISODES):\n",
    "    print(\"Starting Episode: \" + str(e+1))\n",
    "    # Declare game setup paramers\n",
    "    config = setup_config(max_round=100, initial_stack=INITIAL_STACK, small_blind_amount=5)\n",
    "    config.register_player(name = 'p1', algorithm=player1)\n",
    "    config.register_player(name = 'p2', algorithm=player2)\n",
    "    config.register_player(name = 'p3', algorithm=player3)\n",
    "\n",
    "    # play poker game \n",
    "    \n",
    "    game_result = start_poker(config, verbose=0)\n",
    "    \n",
    "\n",
    "    player1.train_long_mem()\n",
    "    player2.train_long_mem()\n",
    "    player2.train_long_mem()\n",
    "\n",
    "    if e % 2 == 0 and e != 0:\n",
    "        print(\"Successfully saved model at episode \" + str(e+1))\n",
    "        player1.save_agent(\"./models/\" + model_file_name)\n",
    "    \n",
    "    clear_output(wait=True)\n",
    "\n",
    "player1.save_agent(\"./models/\" + model_file_name)"
   ]
  }
 ],
 "metadata": {
  "kernelspec": {
   "display_name": "pkrenv1",
   "language": "python",
   "name": "python3"
  },
  "language_info": {
   "codemirror_mode": {
    "name": "ipython",
    "version": 3
   },
   "file_extension": ".py",
   "mimetype": "text/x-python",
   "name": "python",
   "nbconvert_exporter": "python",
   "pygments_lexer": "ipython3",
   "version": "3.11.5"
  }
 },
 "nbformat": 4,
 "nbformat_minor": 2
}
