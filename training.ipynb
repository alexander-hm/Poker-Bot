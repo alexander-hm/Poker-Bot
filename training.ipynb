{
 "cells": [
  {
   "cell_type": "code",
   "execution_count": 1,
   "metadata": {},
   "outputs": [],
   "source": [
    "import random\n",
    "import collections\n",
    "import torch\n",
    "import numpy as np\n",
    "from typing import Iterable\n",
    "from IPython.display import display, clear_output\n",
    "\n",
    "from pypokerengine.players import BasePokerPlayer\n",
    "from pypokerengine.utils.card_utils import estimate_hole_card_win_rate, gen_cards\n",
    "from pypokerengine.api.game import setup_config, start_poker\n",
    "\n",
    "import deepQnetwork\n",
    "from PokerBotSimple import PokerBotSimple\n",
    "\n",
    "\n",
    "\n",
    "%run PokerBotSimple.py\n",
    "%run deepQnetwork.py\n"
   ]
  },
  {
   "cell_type": "code",
   "execution_count": 2,
   "metadata": {},
   "outputs": [],
   "source": [
    "NUM_EPISODES = 10000\n",
    "INITIAL_STACK = 100\n",
    "\n",
    "model_file_name = 'Daniel_Negreanu_GPU'"
   ]
  },
  {
   "cell_type": "code",
   "execution_count": 3,
   "metadata": {},
   "outputs": [
    {
     "name": "stdout",
     "output_type": "stream",
     "text": [
      "True\n",
      "1\n",
      "0\n",
      "<torch.cuda.device object at 0x00000211B33BDBD0>\n",
      "NVIDIA GeForce RTX 3070\n",
      "cuda:0\n"
     ]
    }
   ],
   "source": [
    "# Confirm GPU usage and settings\n",
    "\n",
    "print(torch.cuda.is_available())\n",
    "print(torch.cuda.device_count())\n",
    "print(torch.cuda.current_device())\n",
    "print(torch.cuda.device(0))\n",
    "print(torch.cuda.get_device_name(0))\n",
    "print(deepQnetwork.device)"
   ]
  },
  {
   "cell_type": "code",
   "execution_count": 4,
   "metadata": {},
   "outputs": [
    {
     "name": "stdout",
     "output_type": "stream",
     "text": [
      "Starting Episode: 3\n"
     ]
    },
    {
     "ename": "KeyboardInterrupt",
     "evalue": "",
     "output_type": "error",
     "traceback": [
      "\u001b[1;31m---------------------------------------------------------------------------\u001b[0m",
      "\u001b[1;31mKeyboardInterrupt\u001b[0m                         Traceback (most recent call last)",
      "Cell \u001b[1;32mIn[4], line 17\u001b[0m\n\u001b[0;32m     13\u001b[0m config\u001b[38;5;241m.\u001b[39mregister_player(name \u001b[38;5;241m=\u001b[39m \u001b[38;5;124m'\u001b[39m\u001b[38;5;124mp3\u001b[39m\u001b[38;5;124m'\u001b[39m, algorithm\u001b[38;5;241m=\u001b[39mplayer3)\n\u001b[0;32m     15\u001b[0m \u001b[38;5;66;03m# play poker game \u001b[39;00m\n\u001b[1;32m---> 17\u001b[0m game_result \u001b[38;5;241m=\u001b[39m \u001b[43mstart_poker\u001b[49m\u001b[43m(\u001b[49m\u001b[43mconfig\u001b[49m\u001b[43m,\u001b[49m\u001b[43m \u001b[49m\u001b[43mverbose\u001b[49m\u001b[38;5;241;43m=\u001b[39;49m\u001b[38;5;241;43m0\u001b[39;49m\u001b[43m)\u001b[49m\n\u001b[0;32m     20\u001b[0m player1\u001b[38;5;241m.\u001b[39mtrain_long_mem()\n\u001b[0;32m     21\u001b[0m player2\u001b[38;5;241m.\u001b[39mtrain_long_mem()\n",
      "File \u001b[1;32m~\\anaconda3\\envs\\PokerBot\\lib\\site-packages\\pypokerengine\\api\\game.py:14\u001b[0m, in \u001b[0;36mstart_poker\u001b[1;34m(config, verbose)\u001b[0m\n\u001b[0;32m     12\u001b[0m \u001b[38;5;28;01mfor\u001b[39;00m info \u001b[38;5;129;01min\u001b[39;00m config\u001b[38;5;241m.\u001b[39mplayers_info:\n\u001b[0;32m     13\u001b[0m     dealer\u001b[38;5;241m.\u001b[39mregister_player(info[\u001b[38;5;124m\"\u001b[39m\u001b[38;5;124mname\u001b[39m\u001b[38;5;124m\"\u001b[39m], info[\u001b[38;5;124m\"\u001b[39m\u001b[38;5;124malgorithm\u001b[39m\u001b[38;5;124m\"\u001b[39m])\n\u001b[1;32m---> 14\u001b[0m result_message \u001b[38;5;241m=\u001b[39m \u001b[43mdealer\u001b[49m\u001b[38;5;241;43m.\u001b[39;49m\u001b[43mstart_game\u001b[49m\u001b[43m(\u001b[49m\u001b[43mconfig\u001b[49m\u001b[38;5;241;43m.\u001b[39;49m\u001b[43mmax_round\u001b[49m\u001b[43m)\u001b[49m\n\u001b[0;32m     15\u001b[0m \u001b[38;5;28;01mreturn\u001b[39;00m _format_result(result_message)\n",
      "File \u001b[1;32m~\\anaconda3\\envs\\PokerBot\\lib\\site-packages\\pypokerengine\\engine\\dealer.py:39\u001b[0m, in \u001b[0;36mDealer.start_game\u001b[1;34m(self, max_round)\u001b[0m\n\u001b[0;32m     37\u001b[0m   table \u001b[38;5;241m=\u001b[39m \u001b[38;5;28mself\u001b[39m\u001b[38;5;241m.\u001b[39m__exclude_short_of_money_players(table, ante, sb_amount)\n\u001b[0;32m     38\u001b[0m   \u001b[38;5;28;01mif\u001b[39;00m \u001b[38;5;28mself\u001b[39m\u001b[38;5;241m.\u001b[39m__is_game_finished(table): \u001b[38;5;28;01mbreak\u001b[39;00m\n\u001b[1;32m---> 39\u001b[0m   table \u001b[38;5;241m=\u001b[39m \u001b[38;5;28;43mself\u001b[39;49m\u001b[38;5;241;43m.\u001b[39;49m\u001b[43mplay_round\u001b[49m\u001b[43m(\u001b[49m\u001b[43mround_count\u001b[49m\u001b[43m,\u001b[49m\u001b[43m \u001b[49m\u001b[43msb_amount\u001b[49m\u001b[43m,\u001b[49m\u001b[43m \u001b[49m\u001b[43mante\u001b[49m\u001b[43m,\u001b[49m\u001b[43m \u001b[49m\u001b[43mtable\u001b[49m\u001b[43m)\u001b[49m\n\u001b[0;32m     40\u001b[0m   table\u001b[38;5;241m.\u001b[39mshift_dealer_btn()\n\u001b[0;32m     41\u001b[0m \u001b[38;5;28;01mreturn\u001b[39;00m \u001b[38;5;28mself\u001b[39m\u001b[38;5;241m.\u001b[39m__generate_game_result(max_round, table\u001b[38;5;241m.\u001b[39mseats)\n",
      "File \u001b[1;32m~\\anaconda3\\envs\\PokerBot\\lib\\site-packages\\pypokerengine\\engine\\dealer.py:48\u001b[0m, in \u001b[0;36mDealer.play_round\u001b[1;34m(self, round_count, blind_amount, ante, table)\u001b[0m\n\u001b[0;32m     46\u001b[0m \u001b[38;5;28mself\u001b[39m\u001b[38;5;241m.\u001b[39m__message_check(msgs, state[\u001b[38;5;124m\"\u001b[39m\u001b[38;5;124mstreet\u001b[39m\u001b[38;5;124m\"\u001b[39m])\n\u001b[0;32m     47\u001b[0m \u001b[38;5;28;01mif\u001b[39;00m state[\u001b[38;5;124m\"\u001b[39m\u001b[38;5;124mstreet\u001b[39m\u001b[38;5;124m\"\u001b[39m] \u001b[38;5;241m!=\u001b[39m Const\u001b[38;5;241m.\u001b[39mStreet\u001b[38;5;241m.\u001b[39mFINISHED:  \u001b[38;5;66;03m# continue the round\u001b[39;00m\n\u001b[1;32m---> 48\u001b[0m   action, bet_amount \u001b[38;5;241m=\u001b[39m \u001b[38;5;28;43mself\u001b[39;49m\u001b[38;5;241;43m.\u001b[39;49m\u001b[43m__publish_messages\u001b[49m\u001b[43m(\u001b[49m\u001b[43mmsgs\u001b[49m\u001b[43m)\u001b[49m\n\u001b[0;32m     49\u001b[0m   state, msgs \u001b[38;5;241m=\u001b[39m RoundManager\u001b[38;5;241m.\u001b[39mapply_action(state, action, bet_amount)\n\u001b[0;32m     50\u001b[0m \u001b[38;5;28;01melse\u001b[39;00m:  \u001b[38;5;66;03m# finish the round after publish round result\u001b[39;00m\n",
      "File \u001b[1;32m~\\anaconda3\\envs\\PokerBot\\lib\\site-packages\\pypokerengine\\engine\\dealer.py:103\u001b[0m, in \u001b[0;36mDealer.__publish_messages\u001b[1;34m(self, msgs)\u001b[0m\n\u001b[0;32m    101\u001b[0m   \u001b[38;5;28mself\u001b[39m\u001b[38;5;241m.\u001b[39mmessage_handler\u001b[38;5;241m.\u001b[39mprocess_message(address, msg)\n\u001b[0;32m    102\u001b[0m \u001b[38;5;28mself\u001b[39m\u001b[38;5;241m.\u001b[39mmessage_summarizer\u001b[38;5;241m.\u001b[39msummarize_messages(msgs)\n\u001b[1;32m--> 103\u001b[0m \u001b[38;5;28;01mreturn\u001b[39;00m \u001b[38;5;28;43mself\u001b[39;49m\u001b[38;5;241;43m.\u001b[39;49m\u001b[43mmessage_handler\u001b[49m\u001b[38;5;241;43m.\u001b[39;49m\u001b[43mprocess_message\u001b[49m\u001b[43m(\u001b[49m\u001b[38;5;241;43m*\u001b[39;49m\u001b[43mmsgs\u001b[49m\u001b[43m[\u001b[49m\u001b[38;5;241;43m-\u001b[39;49m\u001b[38;5;241;43m1\u001b[39;49m\u001b[43m]\u001b[49m\u001b[43m)\u001b[49m\n",
      "File \u001b[1;32m~\\anaconda3\\envs\\PokerBot\\lib\\site-packages\\pypokerengine\\engine\\dealer.py:191\u001b[0m, in \u001b[0;36mMessageHandler.process_message\u001b[1;34m(self, address, msg)\u001b[0m\n\u001b[0;32m    189\u001b[0m \u001b[38;5;28;01mfor\u001b[39;00m receiver \u001b[38;5;129;01min\u001b[39;00m receivers:\n\u001b[0;32m    190\u001b[0m   \u001b[38;5;28;01mif\u001b[39;00m msg[\u001b[38;5;124m\"\u001b[39m\u001b[38;5;124mtype\u001b[39m\u001b[38;5;124m\"\u001b[39m] \u001b[38;5;241m==\u001b[39m \u001b[38;5;124m'\u001b[39m\u001b[38;5;124mask\u001b[39m\u001b[38;5;124m'\u001b[39m:\n\u001b[1;32m--> 191\u001b[0m     \u001b[38;5;28;01mreturn\u001b[39;00m \u001b[43mreceiver\u001b[49m\u001b[38;5;241;43m.\u001b[39;49m\u001b[43mrespond_to_ask\u001b[49m\u001b[43m(\u001b[49m\u001b[43mmsg\u001b[49m\u001b[43m[\u001b[49m\u001b[38;5;124;43m\"\u001b[39;49m\u001b[38;5;124;43mmessage\u001b[39;49m\u001b[38;5;124;43m\"\u001b[39;49m\u001b[43m]\u001b[49m\u001b[43m)\u001b[49m\n\u001b[0;32m    192\u001b[0m   \u001b[38;5;28;01melif\u001b[39;00m msg[\u001b[38;5;124m\"\u001b[39m\u001b[38;5;124mtype\u001b[39m\u001b[38;5;124m\"\u001b[39m] \u001b[38;5;241m==\u001b[39m \u001b[38;5;124m'\u001b[39m\u001b[38;5;124mnotification\u001b[39m\u001b[38;5;124m'\u001b[39m:\n\u001b[0;32m    193\u001b[0m     receiver\u001b[38;5;241m.\u001b[39mreceive_notification(msg[\u001b[38;5;124m\"\u001b[39m\u001b[38;5;124mmessage\u001b[39m\u001b[38;5;124m\"\u001b[39m])\n",
      "File \u001b[1;32m~\\anaconda3\\envs\\PokerBot\\lib\\site-packages\\pypokerengine\\players.py:48\u001b[0m, in \u001b[0;36mBasePokerPlayer.respond_to_ask\u001b[1;34m(self, message)\u001b[0m\n\u001b[0;32m     46\u001b[0m \u001b[38;5;250m\u001b[39m\u001b[38;5;124;03m\"\"\"Called from Dealer when ask message received from RoundManager\"\"\"\u001b[39;00m\n\u001b[0;32m     47\u001b[0m valid_actions, hole_card, round_state \u001b[38;5;241m=\u001b[39m \u001b[38;5;28mself\u001b[39m\u001b[38;5;241m.\u001b[39m__parse_ask_message(message)\n\u001b[1;32m---> 48\u001b[0m \u001b[38;5;28;01mreturn\u001b[39;00m \u001b[38;5;28;43mself\u001b[39;49m\u001b[38;5;241;43m.\u001b[39;49m\u001b[43mdeclare_action\u001b[49m\u001b[43m(\u001b[49m\u001b[43mvalid_actions\u001b[49m\u001b[43m,\u001b[49m\u001b[43m \u001b[49m\u001b[43mhole_card\u001b[49m\u001b[43m,\u001b[49m\u001b[43m \u001b[49m\u001b[43mround_state\u001b[49m\u001b[43m)\u001b[49m\n",
      "File \u001b[1;32m~\\Projects\\Poker-Bot\\PokerBotSimple.py:111\u001b[0m, in \u001b[0;36mPokerBotSimple.declare_action\u001b[1;34m(self, valid_actions, hole_card, round_state)\u001b[0m\n\u001b[0;32m    108\u001b[0m \u001b[38;5;28;01mdef\u001b[39;00m \u001b[38;5;21mdeclare_action\u001b[39m(\u001b[38;5;28mself\u001b[39m, valid_actions, hole_card, round_state):\n\u001b[0;32m    109\u001b[0m \n\u001b[0;32m    110\u001b[0m     \u001b[38;5;66;03m# Prepare feature vector based on the game state (length = 24)\u001b[39;00m\n\u001b[1;32m--> 111\u001b[0m     feature_vector \u001b[38;5;241m=\u001b[39m \u001b[38;5;28;43mself\u001b[39;49m\u001b[38;5;241;43m.\u001b[39;49m\u001b[43m_extract_features\u001b[49m\u001b[43m(\u001b[49m\u001b[43mhole_card\u001b[49m\u001b[43m,\u001b[49m\u001b[43m \u001b[49m\u001b[43mround_state\u001b[49m\u001b[43m)\u001b[49m\n\u001b[0;32m    113\u001b[0m     \u001b[38;5;66;03m# If you made a last move in this round, train model on outcome of that move\u001b[39;00m\n\u001b[0;32m    114\u001b[0m     \u001b[38;5;28;01mif\u001b[39;00m \u001b[38;5;129;01mnot\u001b[39;00m \u001b[38;5;28mself\u001b[39m\u001b[38;5;241m.\u001b[39mfirst_move \u001b[38;5;129;01mand\u001b[39;00m \u001b[38;5;28mself\u001b[39m\u001b[38;5;241m.\u001b[39mtraining_mode_on:\n",
      "File \u001b[1;32m~\\Projects\\Poker-Bot\\PokerBotSimple.py:175\u001b[0m, in \u001b[0;36mPokerBotSimple._extract_features\u001b[1;34m(self, hole_card, round_state, win)\u001b[0m\n\u001b[0;32m    173\u001b[0m         hand_strength \u001b[38;5;241m=\u001b[39m \u001b[38;5;241m0\u001b[39m\n\u001b[0;32m    174\u001b[0m \u001b[38;5;28;01melse\u001b[39;00m:\n\u001b[1;32m--> 175\u001b[0m     hand_strength \u001b[38;5;241m=\u001b[39m \u001b[43mestimate_hole_card_win_rate\u001b[49m\u001b[43m(\u001b[49m\u001b[38;5;241;43m1000\u001b[39;49m\u001b[43m,\u001b[49m\u001b[43m \u001b[49m\u001b[38;5;28;43mself\u001b[39;49m\u001b[38;5;241;43m.\u001b[39;49m\u001b[43mnum_players\u001b[49m\u001b[43m,\u001b[49m\u001b[43m \u001b[49m\u001b[43mgen_cards\u001b[49m\u001b[43m(\u001b[49m\u001b[43mhole_card\u001b[49m\u001b[43m)\u001b[49m\u001b[43m,\u001b[49m\u001b[43m \u001b[49m\u001b[43mgen_cards\u001b[49m\u001b[43m(\u001b[49m\u001b[43mround_state\u001b[49m\u001b[43m[\u001b[49m\u001b[38;5;124;43m'\u001b[39;49m\u001b[38;5;124;43mcommunity_card\u001b[39;49m\u001b[38;5;124;43m'\u001b[39;49m\u001b[43m]\u001b[49m\u001b[43m)\u001b[49m\u001b[43m)\u001b[49m\n\u001b[0;32m    177\u001b[0m \u001b[38;5;66;03m# get stack ammout\u001b[39;00m\n\u001b[0;32m    178\u001b[0m stack \u001b[38;5;241m=\u001b[39m \u001b[38;5;241m0\u001b[39m\n",
      "File \u001b[1;32m~\\anaconda3\\envs\\PokerBot\\lib\\site-packages\\pypokerengine\\utils\\card_utils.py:12\u001b[0m, in \u001b[0;36mestimate_hole_card_win_rate\u001b[1;34m(nb_simulation, nb_player, hole_card, community_card)\u001b[0m\n\u001b[0;32m     10\u001b[0m \u001b[38;5;28;01mdef\u001b[39;00m \u001b[38;5;21mestimate_hole_card_win_rate\u001b[39m(nb_simulation, nb_player, hole_card, community_card\u001b[38;5;241m=\u001b[39m\u001b[38;5;28;01mNone\u001b[39;00m):\n\u001b[0;32m     11\u001b[0m     \u001b[38;5;28;01mif\u001b[39;00m \u001b[38;5;129;01mnot\u001b[39;00m community_card: community_card \u001b[38;5;241m=\u001b[39m []\n\u001b[1;32m---> 12\u001b[0m     win_count \u001b[38;5;241m=\u001b[39m \u001b[38;5;28msum\u001b[39m([_montecarlo_simulation(nb_player, hole_card, community_card) \u001b[38;5;28;01mfor\u001b[39;00m _ \u001b[38;5;129;01min\u001b[39;00m \u001b[38;5;28mrange\u001b[39m(nb_simulation)])\n\u001b[0;32m     13\u001b[0m     \u001b[38;5;28;01mreturn\u001b[39;00m \u001b[38;5;241m1.0\u001b[39m \u001b[38;5;241m*\u001b[39m win_count \u001b[38;5;241m/\u001b[39m nb_simulation\n",
      "File \u001b[1;32m~\\anaconda3\\envs\\PokerBot\\lib\\site-packages\\pypokerengine\\utils\\card_utils.py:12\u001b[0m, in \u001b[0;36m<listcomp>\u001b[1;34m(.0)\u001b[0m\n\u001b[0;32m     10\u001b[0m \u001b[38;5;28;01mdef\u001b[39;00m \u001b[38;5;21mestimate_hole_card_win_rate\u001b[39m(nb_simulation, nb_player, hole_card, community_card\u001b[38;5;241m=\u001b[39m\u001b[38;5;28;01mNone\u001b[39;00m):\n\u001b[0;32m     11\u001b[0m     \u001b[38;5;28;01mif\u001b[39;00m \u001b[38;5;129;01mnot\u001b[39;00m community_card: community_card \u001b[38;5;241m=\u001b[39m []\n\u001b[1;32m---> 12\u001b[0m     win_count \u001b[38;5;241m=\u001b[39m \u001b[38;5;28msum\u001b[39m([\u001b[43m_montecarlo_simulation\u001b[49m\u001b[43m(\u001b[49m\u001b[43mnb_player\u001b[49m\u001b[43m,\u001b[49m\u001b[43m \u001b[49m\u001b[43mhole_card\u001b[49m\u001b[43m,\u001b[49m\u001b[43m \u001b[49m\u001b[43mcommunity_card\u001b[49m\u001b[43m)\u001b[49m \u001b[38;5;28;01mfor\u001b[39;00m _ \u001b[38;5;129;01min\u001b[39;00m \u001b[38;5;28mrange\u001b[39m(nb_simulation)])\n\u001b[0;32m     13\u001b[0m     \u001b[38;5;28;01mreturn\u001b[39;00m \u001b[38;5;241m1.0\u001b[39m \u001b[38;5;241m*\u001b[39m win_count \u001b[38;5;241m/\u001b[39m nb_simulation\n",
      "File \u001b[1;32m~\\anaconda3\\envs\\PokerBot\\lib\\site-packages\\pypokerengine\\utils\\card_utils.py:38\u001b[0m, in \u001b[0;36m_montecarlo_simulation\u001b[1;34m(nb_player, hole_card, community_card)\u001b[0m\n\u001b[0;32m     36\u001b[0m opponents_hole \u001b[38;5;241m=\u001b[39m [unused_cards[\u001b[38;5;241m2\u001b[39m\u001b[38;5;241m*\u001b[39mi:\u001b[38;5;241m2\u001b[39m\u001b[38;5;241m*\u001b[39mi\u001b[38;5;241m+\u001b[39m\u001b[38;5;241m2\u001b[39m] \u001b[38;5;28;01mfor\u001b[39;00m i \u001b[38;5;129;01min\u001b[39;00m \u001b[38;5;28mrange\u001b[39m(nb_player\u001b[38;5;241m-\u001b[39m\u001b[38;5;241m1\u001b[39m)]\n\u001b[0;32m     37\u001b[0m opponents_score \u001b[38;5;241m=\u001b[39m [HandEvaluator\u001b[38;5;241m.\u001b[39meval_hand(hole, community_card) \u001b[38;5;28;01mfor\u001b[39;00m hole \u001b[38;5;129;01min\u001b[39;00m opponents_hole]\n\u001b[1;32m---> 38\u001b[0m my_score \u001b[38;5;241m=\u001b[39m \u001b[43mHandEvaluator\u001b[49m\u001b[38;5;241;43m.\u001b[39;49m\u001b[43meval_hand\u001b[49m\u001b[43m(\u001b[49m\u001b[43mhole_card\u001b[49m\u001b[43m,\u001b[49m\u001b[43m \u001b[49m\u001b[43mcommunity_card\u001b[49m\u001b[43m)\u001b[49m\n\u001b[0;32m     39\u001b[0m \u001b[38;5;28;01mreturn\u001b[39;00m \u001b[38;5;241m1\u001b[39m \u001b[38;5;28;01mif\u001b[39;00m my_score \u001b[38;5;241m>\u001b[39m\u001b[38;5;241m=\u001b[39m \u001b[38;5;28mmax\u001b[39m(opponents_score) \u001b[38;5;28;01melse\u001b[39;00m \u001b[38;5;241m0\u001b[39m\n",
      "File \u001b[1;32m~\\anaconda3\\envs\\PokerBot\\lib\\site-packages\\pypokerengine\\engine\\hand_evaluator.py:52\u001b[0m, in \u001b[0;36mHandEvaluator.eval_hand\u001b[1;34m(self, hole, community)\u001b[0m\n\u001b[0;32m     50\u001b[0m \u001b[38;5;129m@classmethod\u001b[39m\n\u001b[0;32m     51\u001b[0m \u001b[38;5;28;01mdef\u001b[39;00m \u001b[38;5;21meval_hand\u001b[39m(\u001b[38;5;28mself\u001b[39m, hole, community):\n\u001b[1;32m---> 52\u001b[0m   ranks \u001b[38;5;241m=\u001b[39m \u001b[38;5;28msorted\u001b[39m([card\u001b[38;5;241m.\u001b[39mrank \u001b[38;5;28;01mfor\u001b[39;00m card \u001b[38;5;129;01min\u001b[39;00m hole])\n\u001b[0;32m     53\u001b[0m   hole_flg \u001b[38;5;241m=\u001b[39m ranks[\u001b[38;5;241m1\u001b[39m] \u001b[38;5;241m<<\u001b[39m \u001b[38;5;241m4\u001b[39m \u001b[38;5;241m|\u001b[39m ranks[\u001b[38;5;241m0\u001b[39m]\n\u001b[0;32m     54\u001b[0m   hand_flg \u001b[38;5;241m=\u001b[39m \u001b[38;5;28mself\u001b[39m\u001b[38;5;241m.\u001b[39m__calc_hand_info_flg(hole, community) \u001b[38;5;241m<<\u001b[39m \u001b[38;5;241m8\u001b[39m\n",
      "File \u001b[1;32m~\\anaconda3\\envs\\PokerBot\\lib\\site-packages\\pypokerengine\\engine\\hand_evaluator.py:52\u001b[0m, in \u001b[0;36m<listcomp>\u001b[1;34m(.0)\u001b[0m\n\u001b[0;32m     50\u001b[0m \u001b[38;5;129m@classmethod\u001b[39m\n\u001b[0;32m     51\u001b[0m \u001b[38;5;28;01mdef\u001b[39;00m \u001b[38;5;21meval_hand\u001b[39m(\u001b[38;5;28mself\u001b[39m, hole, community):\n\u001b[1;32m---> 52\u001b[0m   ranks \u001b[38;5;241m=\u001b[39m \u001b[38;5;28msorted\u001b[39m([card\u001b[38;5;241m.\u001b[39mrank \u001b[38;5;28;01mfor\u001b[39;00m card \u001b[38;5;129;01min\u001b[39;00m hole])\n\u001b[0;32m     53\u001b[0m   hole_flg \u001b[38;5;241m=\u001b[39m ranks[\u001b[38;5;241m1\u001b[39m] \u001b[38;5;241m<<\u001b[39m \u001b[38;5;241m4\u001b[39m \u001b[38;5;241m|\u001b[39m ranks[\u001b[38;5;241m0\u001b[39m]\n\u001b[0;32m     54\u001b[0m   hand_flg \u001b[38;5;241m=\u001b[39m \u001b[38;5;28mself\u001b[39m\u001b[38;5;241m.\u001b[39m__calc_hand_info_flg(hole, community) \u001b[38;5;241m<<\u001b[39m \u001b[38;5;241m8\u001b[39m\n",
      "\u001b[1;31mKeyboardInterrupt\u001b[0m: "
     ]
    }
   ],
   "source": [
    "\n",
    "#create models to train\n",
    "\n",
    "player1 = PokerBotSimple()\n",
    "player2 = PokerBotSimple()\n",
    "player3 = PokerBotSimple()\n",
    "\n",
    "for e in range(NUM_EPISODES):\n",
    "    print(\"Starting Episode: \" + str(e+1))\n",
    "    # Declare game setup paramers\n",
    "    config = setup_config(max_round=100, initial_stack=INITIAL_STACK, small_blind_amount=5)\n",
    "    config.register_player(name = 'p1', algorithm=player1)\n",
    "    config.register_player(name = 'p2', algorithm=player2)\n",
    "    config.register_player(name = 'p3', algorithm=player3)\n",
    "\n",
    "    # play poker game \n",
    "    \n",
    "    game_result = start_poker(config, verbose=0)\n",
    "    \n",
    "\n",
    "    player1.train_long_mem()\n",
    "    player2.train_long_mem()\n",
    "    player2.train_long_mem()\n",
    "\n",
    "    if e % 2 == 0 and e != 0:\n",
    "        print(\"Successfully saved model at episode \" + str(e+1))\n",
    "        player1.save_agent(\"./models/\" + model_file_name)\n",
    "    \n",
    "    clear_output(wait=True)\n",
    "\n",
    "player1.save_agent(\"./models/\" + model_file_name)"
   ]
  }
 ],
 "metadata": {
  "kernelspec": {
   "display_name": "Python 3 (ipykernel)",
   "language": "python",
   "name": "python3"
  },
  "language_info": {
   "codemirror_mode": {
    "name": "ipython",
    "version": 3
   },
   "file_extension": ".py",
   "mimetype": "text/x-python",
   "name": "python",
   "nbconvert_exporter": "python",
   "pygments_lexer": "ipython3",
   "version": "3.10.13"
  },
  "vscode": {
   "interpreter": {
    "hash": "2d1dd036b1e56e9296c789adcc010bd2ad84a6cb36345e02abbd5255d751c6b2"
   }
  }
 },
 "nbformat": 4,
 "nbformat_minor": 4
}
