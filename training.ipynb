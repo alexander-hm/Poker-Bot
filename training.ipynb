{
 "cells": [
  {
   "cell_type": "code",
   "execution_count": 11,
   "metadata": {},
   "outputs": [],
   "source": [
    "import random\n",
    "import collections\n",
    "import torch\n",
    "import numpy as np\n",
    "from typing import Iterable\n",
    "\n",
    "from pypokerengine.players import BasePokerPlayer\n",
    "from pypokerengine.utils.card_utils import estimate_hole_card_win_rate, gen_cards\n",
    "\n",
    "import deepQnetwork\n",
    "from PokerBotSimple import PokerBotSimple\n",
    "\n",
    "\n",
    "\n",
    "%run PokerBotSimple.py\n",
    "%run deepQnetwork.py\n"
   ]
  },
  {
   "cell_type": "code",
   "execution_count": 12,
   "metadata": {},
   "outputs": [],
   "source": [
    "NUM_EPISODES = 400\n",
    "INITIAL_STACK = 100\n",
    "\n",
    "model_file_name = './model/Daniel_Negreanu'\n"
   ]
  },
  {
   "cell_type": "code",
   "execution_count": 13,
   "metadata": {},
   "outputs": [
    {
     "name": "stdout",
     "output_type": "stream",
     "text": [
      "Starting Episode: 1\n",
      "Starting Episode: 2\n",
      "Starting Episode: 3\n",
      "Starting Episode: 4\n",
      "Starting Episode: 5\n",
      "Starting Episode: 6\n",
      "Starting Episode: 7\n",
      "Starting Episode: 8\n"
     ]
    },
    {
     "ename": "KeyboardInterrupt",
     "evalue": "",
     "output_type": "error",
     "traceback": [
      "\u001b[0;31m---------------------------------------------------------------------------\u001b[0m",
      "\u001b[0;31mKeyboardInterrupt\u001b[0m                         Traceback (most recent call last)",
      "\u001b[1;32m/Users/williamobrien/pokerbot/training.ipynb Cell 3\u001b[0m line \u001b[0;36m1\n\u001b[1;32m     <a href='vscode-notebook-cell:/Users/williamobrien/pokerbot/training.ipynb#W1sZmlsZQ%3D%3D?line=14'>15</a>\u001b[0m config\u001b[39m.\u001b[39mregister_player(name \u001b[39m=\u001b[39m \u001b[39m'\u001b[39m\u001b[39mp3\u001b[39m\u001b[39m'\u001b[39m, algorithm\u001b[39m=\u001b[39mplayer3)\n\u001b[1;32m     <a href='vscode-notebook-cell:/Users/williamobrien/pokerbot/training.ipynb#W1sZmlsZQ%3D%3D?line=16'>17</a>\u001b[0m \u001b[39m# play poker game \u001b[39;00m\n\u001b[0;32m---> <a href='vscode-notebook-cell:/Users/williamobrien/pokerbot/training.ipynb#W1sZmlsZQ%3D%3D?line=18'>19</a>\u001b[0m game_result \u001b[39m=\u001b[39m start_poker(config, verbose\u001b[39m=\u001b[39m\u001b[39m0\u001b[39m)\n\u001b[1;32m     <a href='vscode-notebook-cell:/Users/williamobrien/pokerbot/training.ipynb#W1sZmlsZQ%3D%3D?line=20'>21</a>\u001b[0m player1\u001b[39m.\u001b[39mtrain_long_mem()\n\u001b[1;32m     <a href='vscode-notebook-cell:/Users/williamobrien/pokerbot/training.ipynb#W1sZmlsZQ%3D%3D?line=21'>22</a>\u001b[0m player2\u001b[39m.\u001b[39mtrain_long_mem()\n",
      "File \u001b[0;32m~/anaconda3/envs/pkrenv1/lib/python3.11/site-packages/pypokerengine/api/game.py:14\u001b[0m, in \u001b[0;36mstart_poker\u001b[0;34m(config, verbose)\u001b[0m\n\u001b[1;32m     12\u001b[0m \u001b[39mfor\u001b[39;00m info \u001b[39min\u001b[39;00m config\u001b[39m.\u001b[39mplayers_info:\n\u001b[1;32m     13\u001b[0m     dealer\u001b[39m.\u001b[39mregister_player(info[\u001b[39m\"\u001b[39m\u001b[39mname\u001b[39m\u001b[39m\"\u001b[39m], info[\u001b[39m\"\u001b[39m\u001b[39malgorithm\u001b[39m\u001b[39m\"\u001b[39m])\n\u001b[0;32m---> 14\u001b[0m result_message \u001b[39m=\u001b[39m dealer\u001b[39m.\u001b[39mstart_game(config\u001b[39m.\u001b[39mmax_round)\n\u001b[1;32m     15\u001b[0m \u001b[39mreturn\u001b[39;00m _format_result(result_message)\n",
      "File \u001b[0;32m~/anaconda3/envs/pkrenv1/lib/python3.11/site-packages/pypokerengine/engine/dealer.py:39\u001b[0m, in \u001b[0;36mDealer.start_game\u001b[0;34m(self, max_round)\u001b[0m\n\u001b[1;32m     37\u001b[0m   table \u001b[39m=\u001b[39m \u001b[39mself\u001b[39m\u001b[39m.\u001b[39m__exclude_short_of_money_players(table, ante, sb_amount)\n\u001b[1;32m     38\u001b[0m   \u001b[39mif\u001b[39;00m \u001b[39mself\u001b[39m\u001b[39m.\u001b[39m__is_game_finished(table): \u001b[39mbreak\u001b[39;00m\n\u001b[0;32m---> 39\u001b[0m   table \u001b[39m=\u001b[39m \u001b[39mself\u001b[39m\u001b[39m.\u001b[39mplay_round(round_count, sb_amount, ante, table)\n\u001b[1;32m     40\u001b[0m   table\u001b[39m.\u001b[39mshift_dealer_btn()\n\u001b[1;32m     41\u001b[0m \u001b[39mreturn\u001b[39;00m \u001b[39mself\u001b[39m\u001b[39m.\u001b[39m__generate_game_result(max_round, table\u001b[39m.\u001b[39mseats)\n",
      "File \u001b[0;32m~/anaconda3/envs/pkrenv1/lib/python3.11/site-packages/pypokerengine/engine/dealer.py:48\u001b[0m, in \u001b[0;36mDealer.play_round\u001b[0;34m(self, round_count, blind_amount, ante, table)\u001b[0m\n\u001b[1;32m     46\u001b[0m \u001b[39mself\u001b[39m\u001b[39m.\u001b[39m__message_check(msgs, state[\u001b[39m\"\u001b[39m\u001b[39mstreet\u001b[39m\u001b[39m\"\u001b[39m])\n\u001b[1;32m     47\u001b[0m \u001b[39mif\u001b[39;00m state[\u001b[39m\"\u001b[39m\u001b[39mstreet\u001b[39m\u001b[39m\"\u001b[39m] \u001b[39m!=\u001b[39m Const\u001b[39m.\u001b[39mStreet\u001b[39m.\u001b[39mFINISHED:  \u001b[39m# continue the round\u001b[39;00m\n\u001b[0;32m---> 48\u001b[0m   action, bet_amount \u001b[39m=\u001b[39m \u001b[39mself\u001b[39m\u001b[39m.\u001b[39m__publish_messages(msgs)\n\u001b[1;32m     49\u001b[0m   state, msgs \u001b[39m=\u001b[39m RoundManager\u001b[39m.\u001b[39mapply_action(state, action, bet_amount)\n\u001b[1;32m     50\u001b[0m \u001b[39melse\u001b[39;00m:  \u001b[39m# finish the round after publish round result\u001b[39;00m\n",
      "File \u001b[0;32m~/anaconda3/envs/pkrenv1/lib/python3.11/site-packages/pypokerengine/engine/dealer.py:103\u001b[0m, in \u001b[0;36mDealer.__publish_messages\u001b[0;34m(self, msgs)\u001b[0m\n\u001b[1;32m    101\u001b[0m   \u001b[39mself\u001b[39m\u001b[39m.\u001b[39mmessage_handler\u001b[39m.\u001b[39mprocess_message(address, msg)\n\u001b[1;32m    102\u001b[0m \u001b[39mself\u001b[39m\u001b[39m.\u001b[39mmessage_summarizer\u001b[39m.\u001b[39msummarize_messages(msgs)\n\u001b[0;32m--> 103\u001b[0m \u001b[39mreturn\u001b[39;00m \u001b[39mself\u001b[39m\u001b[39m.\u001b[39mmessage_handler\u001b[39m.\u001b[39mprocess_message(\u001b[39m*\u001b[39mmsgs[\u001b[39m-\u001b[39m\u001b[39m1\u001b[39m])\n",
      "File \u001b[0;32m~/anaconda3/envs/pkrenv1/lib/python3.11/site-packages/pypokerengine/engine/dealer.py:191\u001b[0m, in \u001b[0;36mMessageHandler.process_message\u001b[0;34m(self, address, msg)\u001b[0m\n\u001b[1;32m    189\u001b[0m \u001b[39mfor\u001b[39;00m receiver \u001b[39min\u001b[39;00m receivers:\n\u001b[1;32m    190\u001b[0m   \u001b[39mif\u001b[39;00m msg[\u001b[39m\"\u001b[39m\u001b[39mtype\u001b[39m\u001b[39m\"\u001b[39m] \u001b[39m==\u001b[39m \u001b[39m'\u001b[39m\u001b[39mask\u001b[39m\u001b[39m'\u001b[39m:\n\u001b[0;32m--> 191\u001b[0m     \u001b[39mreturn\u001b[39;00m receiver\u001b[39m.\u001b[39mrespond_to_ask(msg[\u001b[39m\"\u001b[39m\u001b[39mmessage\u001b[39m\u001b[39m\"\u001b[39m])\n\u001b[1;32m    192\u001b[0m   \u001b[39melif\u001b[39;00m msg[\u001b[39m\"\u001b[39m\u001b[39mtype\u001b[39m\u001b[39m\"\u001b[39m] \u001b[39m==\u001b[39m \u001b[39m'\u001b[39m\u001b[39mnotification\u001b[39m\u001b[39m'\u001b[39m:\n\u001b[1;32m    193\u001b[0m     receiver\u001b[39m.\u001b[39mreceive_notification(msg[\u001b[39m\"\u001b[39m\u001b[39mmessage\u001b[39m\u001b[39m\"\u001b[39m])\n",
      "File \u001b[0;32m~/anaconda3/envs/pkrenv1/lib/python3.11/site-packages/pypokerengine/players.py:48\u001b[0m, in \u001b[0;36mBasePokerPlayer.respond_to_ask\u001b[0;34m(self, message)\u001b[0m\n\u001b[1;32m     46\u001b[0m \u001b[39m\u001b[39m\u001b[39m\"\"\"Called from Dealer when ask message received from RoundManager\"\"\"\u001b[39;00m\n\u001b[1;32m     47\u001b[0m valid_actions, hole_card, round_state \u001b[39m=\u001b[39m \u001b[39mself\u001b[39m\u001b[39m.\u001b[39m__parse_ask_message(message)\n\u001b[0;32m---> 48\u001b[0m \u001b[39mreturn\u001b[39;00m \u001b[39mself\u001b[39m\u001b[39m.\u001b[39mdeclare_action(valid_actions, hole_card, round_state)\n",
      "File \u001b[0;32m~/pokerbot/PokerBotSimple.py:99\u001b[0m, in \u001b[0;36mPokerBotSimple.declare_action\u001b[0;34m(self, valid_actions, hole_card, round_state)\u001b[0m\n\u001b[1;32m     97\u001b[0m \u001b[39mdef\u001b[39;00m \u001b[39mdeclare_action\u001b[39m(\u001b[39mself\u001b[39m, valid_actions, hole_card, round_state):\n\u001b[1;32m     98\u001b[0m     \u001b[39m# Prepare feature vector based on the game state\u001b[39;00m\n\u001b[0;32m---> 99\u001b[0m     feature_vector \u001b[39m=\u001b[39m \u001b[39mself\u001b[39m\u001b[39m.\u001b[39m_extract_features(hole_card, round_state)\n\u001b[1;32m    101\u001b[0m     \u001b[39mif\u001b[39;00m \u001b[39mnot\u001b[39;00m \u001b[39mself\u001b[39m\u001b[39m.\u001b[39mfirst_move \u001b[39mand\u001b[39;00m \u001b[39mself\u001b[39m\u001b[39m.\u001b[39mtraining_mode_on:\n\u001b[1;32m    102\u001b[0m         \u001b[39mself\u001b[39m\u001b[39m.\u001b[39mtrain_short_mem(\u001b[39mself\u001b[39m\u001b[39m.\u001b[39mlast_state, \u001b[39mself\u001b[39m\u001b[39m.\u001b[39mlast_action, \u001b[39m0\u001b[39m, feature_vector, \u001b[39mFalse\u001b[39;00m)\n",
      "File \u001b[0;32m~/pokerbot/PokerBotSimple.py:162\u001b[0m, in \u001b[0;36mPokerBotSimple._extract_features\u001b[0;34m(self, hole_card, round_state, win)\u001b[0m\n\u001b[1;32m    160\u001b[0m         hand_strength \u001b[39m=\u001b[39m \u001b[39m0\u001b[39m\n\u001b[1;32m    161\u001b[0m \u001b[39melse\u001b[39;00m:\n\u001b[0;32m--> 162\u001b[0m     hand_strength \u001b[39m=\u001b[39m estimate_hole_card_win_rate(\u001b[39m1000\u001b[39m, \u001b[39m3\u001b[39m, gen_cards(hole_card), gen_cards(round_state[\u001b[39m'\u001b[39m\u001b[39mcommunity_card\u001b[39m\u001b[39m'\u001b[39m]))\n\u001b[1;32m    164\u001b[0m \u001b[39m# 8 Standard features\u001b[39;00m\n\u001b[1;32m    166\u001b[0m standard_features \u001b[39m=\u001b[39m [\n\u001b[1;32m    167\u001b[0m     round_state[\u001b[39m'\u001b[39m\u001b[39mround_count\u001b[39m\u001b[39m'\u001b[39m],\n\u001b[1;32m    168\u001b[0m     round_state[\u001b[39m'\u001b[39m\u001b[39mpot\u001b[39m\u001b[39m'\u001b[39m][\u001b[39m'\u001b[39m\u001b[39mmain\u001b[39m\u001b[39m'\u001b[39m][\u001b[39m'\u001b[39m\u001b[39mamount\u001b[39m\u001b[39m'\u001b[39m],\n\u001b[0;32m   (...)\u001b[0m\n\u001b[1;32m    174\u001b[0m     \u001b[39mself\u001b[39m\u001b[39m.\u001b[39m_street_to_feature(round_state[\u001b[39m'\u001b[39m\u001b[39mstreet\u001b[39m\u001b[39m'\u001b[39m])\n\u001b[1;32m    175\u001b[0m ]\n",
      "File \u001b[0;32m~/anaconda3/envs/pkrenv1/lib/python3.11/site-packages/pypokerengine/utils/card_utils.py:12\u001b[0m, in \u001b[0;36mestimate_hole_card_win_rate\u001b[0;34m(nb_simulation, nb_player, hole_card, community_card)\u001b[0m\n\u001b[1;32m     10\u001b[0m \u001b[39mdef\u001b[39;00m \u001b[39mestimate_hole_card_win_rate\u001b[39m(nb_simulation, nb_player, hole_card, community_card\u001b[39m=\u001b[39m\u001b[39mNone\u001b[39;00m):\n\u001b[1;32m     11\u001b[0m     \u001b[39mif\u001b[39;00m \u001b[39mnot\u001b[39;00m community_card: community_card \u001b[39m=\u001b[39m []\n\u001b[0;32m---> 12\u001b[0m     win_count \u001b[39m=\u001b[39m \u001b[39msum\u001b[39m([_montecarlo_simulation(nb_player, hole_card, community_card) \u001b[39mfor\u001b[39;00m _ \u001b[39min\u001b[39;00m \u001b[39mrange\u001b[39m(nb_simulation)])\n\u001b[1;32m     13\u001b[0m     \u001b[39mreturn\u001b[39;00m \u001b[39m1.0\u001b[39m \u001b[39m*\u001b[39m win_count \u001b[39m/\u001b[39m nb_simulation\n",
      "File \u001b[0;32m~/anaconda3/envs/pkrenv1/lib/python3.11/site-packages/pypokerengine/utils/card_utils.py:12\u001b[0m, in \u001b[0;36m<listcomp>\u001b[0;34m(.0)\u001b[0m\n\u001b[1;32m     10\u001b[0m \u001b[39mdef\u001b[39;00m \u001b[39mestimate_hole_card_win_rate\u001b[39m(nb_simulation, nb_player, hole_card, community_card\u001b[39m=\u001b[39m\u001b[39mNone\u001b[39;00m):\n\u001b[1;32m     11\u001b[0m     \u001b[39mif\u001b[39;00m \u001b[39mnot\u001b[39;00m community_card: community_card \u001b[39m=\u001b[39m []\n\u001b[0;32m---> 12\u001b[0m     win_count \u001b[39m=\u001b[39m \u001b[39msum\u001b[39m([_montecarlo_simulation(nb_player, hole_card, community_card) \u001b[39mfor\u001b[39;00m _ \u001b[39min\u001b[39;00m \u001b[39mrange\u001b[39m(nb_simulation)])\n\u001b[1;32m     13\u001b[0m     \u001b[39mreturn\u001b[39;00m \u001b[39m1.0\u001b[39m \u001b[39m*\u001b[39m win_count \u001b[39m/\u001b[39m nb_simulation\n",
      "File \u001b[0;32m~/anaconda3/envs/pkrenv1/lib/python3.11/site-packages/pypokerengine/utils/card_utils.py:35\u001b[0m, in \u001b[0;36m_montecarlo_simulation\u001b[0;34m(nb_player, hole_card, community_card)\u001b[0m\n\u001b[1;32m     33\u001b[0m \u001b[39mdef\u001b[39;00m \u001b[39m_montecarlo_simulation\u001b[39m(nb_player, hole_card, community_card):\n\u001b[1;32m     34\u001b[0m     community_card \u001b[39m=\u001b[39m _fill_community_card(community_card, used_card\u001b[39m=\u001b[39mhole_card\u001b[39m+\u001b[39mcommunity_card)\n\u001b[0;32m---> 35\u001b[0m     unused_cards \u001b[39m=\u001b[39m _pick_unused_card((nb_player\u001b[39m-\u001b[39m\u001b[39m1\u001b[39m)\u001b[39m*\u001b[39m\u001b[39m2\u001b[39m, hole_card \u001b[39m+\u001b[39m community_card)\n\u001b[1;32m     36\u001b[0m     opponents_hole \u001b[39m=\u001b[39m [unused_cards[\u001b[39m2\u001b[39m\u001b[39m*\u001b[39mi:\u001b[39m2\u001b[39m\u001b[39m*\u001b[39mi\u001b[39m+\u001b[39m\u001b[39m2\u001b[39m] \u001b[39mfor\u001b[39;00m i \u001b[39min\u001b[39;00m \u001b[39mrange\u001b[39m(nb_player\u001b[39m-\u001b[39m\u001b[39m1\u001b[39m)]\n\u001b[1;32m     37\u001b[0m     opponents_score \u001b[39m=\u001b[39m [HandEvaluator\u001b[39m.\u001b[39meval_hand(hole, community_card) \u001b[39mfor\u001b[39;00m hole \u001b[39min\u001b[39;00m opponents_hole]\n",
      "File \u001b[0;32m~/anaconda3/envs/pkrenv1/lib/python3.11/site-packages/pypokerengine/utils/card_utils.py:47\u001b[0m, in \u001b[0;36m_pick_unused_card\u001b[0;34m(card_num, used_card)\u001b[0m\n\u001b[1;32m     45\u001b[0m \u001b[39mdef\u001b[39;00m \u001b[39m_pick_unused_card\u001b[39m(card_num, used_card):\n\u001b[1;32m     46\u001b[0m     used \u001b[39m=\u001b[39m [card\u001b[39m.\u001b[39mto_id() \u001b[39mfor\u001b[39;00m card \u001b[39min\u001b[39;00m used_card]\n\u001b[0;32m---> 47\u001b[0m     unused \u001b[39m=\u001b[39m [card_id \u001b[39mfor\u001b[39;00m card_id \u001b[39min\u001b[39;00m \u001b[39mrange\u001b[39m(\u001b[39m1\u001b[39m, \u001b[39m53\u001b[39m) \u001b[39mif\u001b[39;00m card_id \u001b[39mnot\u001b[39;00m \u001b[39min\u001b[39;00m used]\n\u001b[1;32m     48\u001b[0m     choiced \u001b[39m=\u001b[39m random\u001b[39m.\u001b[39msample(unused, card_num)\n\u001b[1;32m     49\u001b[0m     \u001b[39mreturn\u001b[39;00m [Card\u001b[39m.\u001b[39mfrom_id(card_id) \u001b[39mfor\u001b[39;00m card_id \u001b[39min\u001b[39;00m choiced]\n",
      "File \u001b[0;32m~/anaconda3/envs/pkrenv1/lib/python3.11/site-packages/pypokerengine/utils/card_utils.py:47\u001b[0m, in \u001b[0;36m<listcomp>\u001b[0;34m(.0)\u001b[0m\n\u001b[1;32m     45\u001b[0m \u001b[39mdef\u001b[39;00m \u001b[39m_pick_unused_card\u001b[39m(card_num, used_card):\n\u001b[1;32m     46\u001b[0m     used \u001b[39m=\u001b[39m [card\u001b[39m.\u001b[39mto_id() \u001b[39mfor\u001b[39;00m card \u001b[39min\u001b[39;00m used_card]\n\u001b[0;32m---> 47\u001b[0m     unused \u001b[39m=\u001b[39m [card_id \u001b[39mfor\u001b[39;00m card_id \u001b[39min\u001b[39;00m \u001b[39mrange\u001b[39m(\u001b[39m1\u001b[39m, \u001b[39m53\u001b[39m) \u001b[39mif\u001b[39;00m card_id \u001b[39mnot\u001b[39;00m \u001b[39min\u001b[39;00m used]\n\u001b[1;32m     48\u001b[0m     choiced \u001b[39m=\u001b[39m random\u001b[39m.\u001b[39msample(unused, card_num)\n\u001b[1;32m     49\u001b[0m     \u001b[39mreturn\u001b[39;00m [Card\u001b[39m.\u001b[39mfrom_id(card_id) \u001b[39mfor\u001b[39;00m card_id \u001b[39min\u001b[39;00m choiced]\n",
      "\u001b[0;31mKeyboardInterrupt\u001b[0m: "
     ]
    }
   ],
   "source": [
    "from pypokerengine.api.game import setup_config, start_poker\n",
    "\n",
    "#create models to train\n",
    "\n",
    "player1 = PokerBotSimple()\n",
    "player2 = PokerBotSimple()\n",
    "player3 = PokerBotSimple()\n",
    "\n",
    "for e in range(NUM_EPISODES):\n",
    "    print(\"Starting Episode: \" + str(e+1))\n",
    "    # Declare game setup paramers\n",
    "    config = setup_config(max_round=100, initial_stack=INITIAL_STACK, small_blind_amount=5)\n",
    "    config.register_player(name = 'p1', algorithm=player1)\n",
    "    config.register_player(name = 'p2', algorithm=player2)\n",
    "    config.register_player(name = 'p3', algorithm=player3)\n",
    "\n",
    "    # play poker game \n",
    "    \n",
    "    game_result = start_poker(config, verbose=0)\n",
    "\n",
    "    player1.train_long_mem()\n",
    "    player2.train_long_mem()\n",
    "    player2.train_long_mem()\n",
    "\n",
    "    # if e % 100 == 0:\n",
    "    #     player1.save_agent(\"./models/\" + model_file_name)\n",
    "\n",
    "# player1.save_agent(\"./models/\" + model_file_name)"
   ]
  }
 ],
 "metadata": {
  "kernelspec": {
   "display_name": "pkrenv1",
   "language": "python",
   "name": "python3"
  },
  "language_info": {
   "codemirror_mode": {
    "name": "ipython",
    "version": 3
   },
   "file_extension": ".py",
   "mimetype": "text/x-python",
   "name": "python",
   "nbconvert_exporter": "python",
   "pygments_lexer": "ipython3",
   "version": "3.11.5"
  }
 },
 "nbformat": 4,
 "nbformat_minor": 2
}
