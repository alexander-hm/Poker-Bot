{
 "cells": [
  {
   "cell_type": "code",
   "execution_count": 1,
   "id": "1691a5ce",
   "metadata": {},
   "outputs": [],
   "source": [
    "# See [https://www.kaggle.com/code/camillahorne/poker-data-extraction]\n",
    "\n",
    "# Generate input (x) and output (Y) data from the Poker Hold'Em Games dataset\n",
    "# For training and validating a machine learning model"
   ]
  },
  {
   "cell_type": "markdown",
   "id": "6010e291",
   "metadata": {},
   "source": [
    "The game state will be defined by the following parameters:\n",
    "\n",
    "Game Data\n",
    "- Players\n",
    "- Pot\n",
    "- Button\n",
    "\n",
    "Player Data\n",
    "- Chips\n",
    "- Bet\n",
    "- Hand\n",
    "    - Card 1\n",
    "    - Card 2\n",
    "\n",
    "Opponent Data x8\n",
    "- Chips\n",
    "- Action (Fold | Call | Raise | All-In)\n",
    "- Bet"
   ]
  },
  {
   "cell_type": "code",
   "execution_count": 7,
   "id": "72b80a30",
   "metadata": {},
   "outputs": [],
   "source": [
    "# Parse training data into x and Y data np.arrays\n",
    "# Keep track of game state\n",
    "# On each new game clear the game state\n",
    "# For each move, update the game state\n",
    "# Whenever the player makes a move concatenate the game state and the player move to the training data"
   ]
  },
  {
   "cell_type": "code",
   "execution_count": 8,
   "id": "68059a8e",
   "metadata": {},
   "outputs": [],
   "source": [
    "# Save the training data into two csv files\n",
    "# Parse the .csv files into np arrays with:\n",
    "# np.genfromtxt('file.csv', delimiter=',')"
   ]
  },
  {
   "cell_type": "code",
   "execution_count": 2,
   "id": "b1d052ba",
   "metadata": {
    "_cell_guid": "b1076dfc-b9ad-4769-8c92-a6c4dae69d19",
    "_uuid": "8f2839f25d086af736a60e9eeb907d3b93b6e0e5",
    "execution": {
     "iopub.execute_input": "2023-09-07T19:34:11.978481Z",
     "iopub.status.busy": "2023-09-07T19:34:11.977847Z",
     "iopub.status.idle": "2023-09-07T19:34:11.983869Z",
     "shell.execute_reply": "2023-09-07T19:34:11.982232Z",
     "shell.execute_reply.started": "2023-09-07T19:34:11.978446Z"
    }
   },
   "outputs": [],
   "source": [
    "import pandas as pd\n",
    "import numpy as np\n",
    "import os\n",
    "import re\n",
    "from datetime import datetime\n",
    "import json\n",
    "import glob"
   ]
  },
  {
   "cell_type": "code",
   "execution_count": 3,
   "id": "b9120946",
   "metadata": {
    "execution": {
     "iopub.execute_input": "2023-09-07T19:34:11.987166Z",
     "iopub.status.busy": "2023-09-07T19:34:11.986819Z",
     "iopub.status.idle": "2023-09-07T19:34:13.98613Z",
     "shell.execute_reply": "2023-09-07T19:34:13.985343Z",
     "shell.execute_reply.started": "2023-09-07T19:34:11.987136Z"
    }
   },
   "outputs": [
    {
     "name": "stdout",
     "output_type": "stream",
     "text": [
      "Total of 0 games\n"
     ]
    }
   ],
   "source": [
    "def GetGamesData():\n",
    "    result = []\n",
    "    \n",
    "    for dirname, _, filenames in os.walk('*/Data/'):\n",
    "        for filename in filenames:\n",
    "            file = open(os.path.join(dirname, filename), 'r')\n",
    "            content = file.read()\n",
    "\n",
    "            result += re.findall(r'Game started at: (.+)\\nGame ID: (\\d+).+\\(Hold\\'em\\)\\nSeat (\\d+) is the button\\n((?:Seat .+\\n)+)([^$]+?)------ Summary ------\\n(Pot: .+?)\\n(?:(Board: .+?)\\n)?([^$]+?)Game ended at: (.+)', content)\n",
    "\n",
    "            file.close()\n",
    "    \n",
    "    print (\"Total of\", len(result), \"games\")\n",
    "    \n",
    "    return (result)\n",
    "\n",
    "games = GetGamesData()"
   ]
  },
  {
   "cell_type": "code",
   "execution_count": 4,
   "id": "72a7d093",
   "metadata": {
    "execution": {
     "iopub.execute_input": "2023-09-07T19:34:13.988733Z",
     "iopub.status.busy": "2023-09-07T19:34:13.987941Z",
     "iopub.status.idle": "2023-09-07T19:34:13.994899Z",
     "shell.execute_reply": "2023-09-07T19:34:13.993679Z",
     "shell.execute_reply.started": "2023-09-07T19:34:13.9887Z"
    }
   },
   "outputs": [],
   "source": [
    "datetimeFormat = '%Y/%m/%d %H:%M:%S'\n",
    "seatRe = re.compile(r\"Seat (\\d+): (.+) \\((\\d+(?:\\.\\d+)?)\\)\")\n",
    "betRe = re.compile(r\"Pot: (\\d+(?:\\.\\d+)?).+Rake (\\d+(?:\\.\\d+)?)(?:.+JP fee (\\d+(?:\\.\\d+)?))?\")\n",
    "boardRe = re.compile(r\"\\[([^]]*)\\]\")\n",
    "playerNameRe = re.compile(r\"Player ([^ ]+)\")\n",
    "actionRe = re.compile(r\"Player .+ ([^ ]+)s? \\((\\d+(?:\\.\\d+)?)\\)\")\n",
    "endingNumberRe = re.compile(r\".+\\((\\d+(?:\\.\\d+)?)\\)\")\n",
    "cardsRe = re.compile(r\".*\\[([^\\]]+)\\]\")\n",
    "winningRe = re.compile(r\"Player .+?(?: \\[(.+)\\])?\\)?\\. ?Bets: (\\d+(?:\\.\\d+)?)\\. Collects: (\\d+(?:\\.\\d+)?)\\.(?: Wins: (\\d+(?:\\.\\d+)?)\\.)?(?: Loses: (\\d+(?:\\.\\d+)?)\\.)?\")"
   ]
  },
  {
   "cell_type": "code",
   "execution_count": 5,
   "id": "6917fc57",
   "metadata": {
    "execution": {
     "iopub.execute_input": "2023-09-07T19:34:13.997241Z",
     "iopub.status.busy": "2023-09-07T19:34:13.996675Z",
     "iopub.status.idle": "2023-09-07T19:34:14.009866Z",
     "shell.execute_reply": "2023-09-07T19:34:14.008736Z",
     "shell.execute_reply.started": "2023-09-07T19:34:13.997203Z"
    }
   },
   "outputs": [],
   "source": [
    "def GetPlayerName(line):\n",
    "    match = playerNameRe.search(line)\n",
    "    \n",
    "    if match is None:\n",
    "        return \"\"\n",
    "    \n",
    "    return match.group(1)\n",
    "\n",
    "def GetDuration(startTime, endTime):\n",
    "    tStart = datetime.strptime(startTime, datetimeFormat)\n",
    "    tEnd = datetime.strptime(endTime, datetimeFormat)\n",
    "    tDelta = tEnd - tStart\n",
    "    return int(tDelta.total_seconds())\n",
    "\n",
    "def GetAsFloat(value):\n",
    "    return float(value if value else 0)"
   ]
  },
  {
   "cell_type": "code",
   "execution_count": 12,
   "id": "b4e16fbc",
   "metadata": {
    "execution": {
     "iopub.execute_input": "2023-09-07T19:34:14.013512Z",
     "iopub.status.busy": "2023-09-07T19:34:14.01309Z",
     "iopub.status.idle": "2023-09-07T19:34:14.024039Z",
     "shell.execute_reply": "2023-09-07T19:34:14.022707Z",
     "shell.execute_reply.started": "2023-09-07T19:34:14.013473Z"
    }
   },
   "outputs": [],
   "source": [
    "cards = {'1':1, '2':2, '3':3, '4':4, '5':5, '6':6, '7':7, '8':8, '9':9, '10':10, 'J':11, 'Q':12, 'K':13, 'A':14}\n",
    "suits = {'h' : 1, 'd' : 2, 'c' : 3, 's' : 4}\n",
    "actions = {'Fold' : 1, 'Call' : 2, 'Raise' : 3, 'All-In' : 4}\n",
    "\n",
    "def ClearDataframe():\n",
    "    global gameState\n",
    "    # max 9 players at the table including our player\n",
    "    gameState = pd.DataFrame({'numPlayers': [], 'button': [], 'pot': [], 'position': [], 'chips': [], 'stake': [], 'card1': [], 'card2': [], 'P1_chips': [], 'P1_action': [], 'P1_bet': [], 'P2_chips': [], 'P2_action': [], 'P2_bet': [], 'P3_chips': [], 'P3_action': [], 'P3_bet': [], 'P4_chips': [], 'P4_action': [], 'P4_bet': [], 'P5_chips': [], 'P5_action': [], 'P5_bet': [], 'P6_chips': [], 'P6_action': [], 'P6_bet': [], 'P7_chips': [], 'P7_action': [], 'P7_bet': [], 'P8_chips': [], 'P8_action': [], 'P8_bet': [], 'P9_chips': [], 'P9_action': [], 'P9_bet': []})\n",
    "    \n",
    "    global action\n",
    "    action = pd.DataFrame({'action': [], 'bet': []})"
   ]
  },
  {
   "cell_type": "code",
   "execution_count": 9,
   "id": "4c78cee6",
   "metadata": {},
   "outputs": [],
   "source": [
    "tmpPath = 'tmp'\n",
    "gameStateFileName = 'game_state.csv'\n",
    "actionFileName = 'action.csv'\n",
    "\n",
    "def CleanEverything():\n",
    "    for file in glob.glob(f'*.csv'):\n",
    "        os.remove(file)\n",
    "\n",
    "def PrepareTmpFolder(delete = False):\n",
    "    ClearDataframes()\n",
    "    \n",
    "    if not os.path.exists(tmpPath):\n",
    "        os.makedirs(tmpPath)\n",
    "    elif delete:\n",
    "        files = os.listdir(tmpPath)\n",
    "        for file in files:\n",
    "            file_path = os.path.join(tmpPath, file)\n",
    "            os.remove(file_path)\n",
    "\n",
    "def SaveTmpDatasets(index):\n",
    "    currentIndex = str(index).rjust(5, '0')\n",
    "    gameState.to_csv(f'{tmpPath}/{currentIndex}-{gameStateFileName}', index=False)\n",
    "    action.to_csv(f'{tmpPath}/{currentIndex}-{actionFileName}', index=False)"
   ]
  },
  {
   "cell_type": "markdown",
   "id": "3b095af7",
   "metadata": {},
   "source": [
    "The following requires updating and refactoring for our purposes:"
   ]
  },
  {
   "cell_type": "code",
   "execution_count": null,
   "id": "e4c9c160",
   "metadata": {
    "execution": {
     "iopub.execute_input": "2023-09-07T19:34:14.047904Z",
     "iopub.status.busy": "2023-09-07T19:34:14.047549Z",
     "iopub.status.idle": "2023-09-07T19:34:14.07437Z",
     "shell.execute_reply": "2023-09-07T19:34:14.073223Z",
     "shell.execute_reply.started": "2023-09-07T19:34:14.047874Z"
    }
   },
   "outputs": [],
   "source": [
    "def GetCurrentPlayer(playerDict, name):\n",
    "    if name in playerDict:\n",
    "        return playerDict[name]\n",
    "\n",
    "    # Beware: Hack to handle space in username. Hopefully this is enough.\n",
    "    playerNames = list(playerDict.keys())\n",
    "\n",
    "    for playerName in playerNames:\n",
    "        if playerName.startswith(name):\n",
    "            return playerDict[playerName]\n",
    "\n",
    "\n",
    "def ExtractGameData(currentGame):\n",
    "    startTime = currentGame[0]\n",
    "    gameId = int(currentGame[1])\n",
    "    button = int(currentGame[2])\n",
    "    seats = currentGame[3]\n",
    "    gameActions = currentGame[4]\n",
    "    bet = currentGame[5]\n",
    "    board = currentGame[6]\n",
    "    winnings = currentGame[7]\n",
    "    endTime = currentGame[8]\n",
    "\n",
    "\n",
    "    # Extract players\n",
    "    players = seatRe.findall(seats)\n",
    "    \n",
    "    playerDict = {}\n",
    "    seatsInPlay = []\n",
    "    \n",
    "    for player in players:\n",
    "        playerSeat = int(player[0])\n",
    "        playerName = player[1]\n",
    "        playerChips = float(player[2])\n",
    "\n",
    "        seatsInPlay += [playerSeat]\n",
    "        playerDict[playerName] = {'seat': playerSeat, 'chips': playerChips, 'name': playerName, 'cards': []}\n",
    "\n",
    "\n",
    "    # Extract actions\n",
    "    actionsList = gameActions.split(\"\\n\")\n",
    "    currentState = \"PREFLOP\"\n",
    "    \n",
    "    for action in actionsList:\n",
    "        if action == \"\":\n",
    "            continue\n",
    "        if action.startswith(\"*** \"):\n",
    "            stateGroup = re.search(r'\\*{3} ([^ ]+) \\*{3}', action)\n",
    "            currentState = stateGroup.group(1)\n",
    "            continue\n",
    "        if action.startswith(\"Uncalled bet\"):\n",
    "            continue\n",
    "        \n",
    "        currentPlayerName = GetPlayerName(action)\n",
    "        currentPlayer = GetCurrentPlayer(playerDict, currentPlayerName)\n",
    "        \n",
    "        if currentPlayer is None:\n",
    "            # game 30837 contains lines where the player name is missing\n",
    "            continue\n",
    "\n",
    "        if \"has small blind\" in action:\n",
    "            smallBlindValue = float(endingNumberRe.search(action).group(1))\n",
    "            gameActionsDf.loc[len(gameActionsDf)] = [currentState, currentPlayer['name'], currentPlayer[\"seat\"], 'SB', smallBlindValue, gameId]\n",
    "            continue\n",
    "        if \"has big blind\" in action:\n",
    "            bigBlindValue = float(endingNumberRe.search(action).group(1))\n",
    "            gameActionsDf.loc[len(gameActionsDf)] = [currentState, currentPlayer['name'], currentPlayer[\"seat\"], 'BB', bigBlindValue, gameId]\n",
    "            continue\n",
    "        if action.endswith(\" received a card.\"):\n",
    "            continue\n",
    "        if \" received card: [\" in action:\n",
    "            playerDict[playerName][\"cards\"] += cardsRe.search(action).group(1).split(\" \")\n",
    "            continue\n",
    "\n",
    "        if action.endswith(\"is timed out.\"):\n",
    "            if (currentPlayer):\n",
    "                gameActionsDf.loc[len(gameActionsDf)] = [currentState, currentPlayer['name'], currentPlayer[\"seat\"], 'timed out', 0, gameId]\n",
    "            continue\n",
    "        if action.endswith(\"sitting out\"):\n",
    "            gameActionsDf.loc[len(gameActionsDf)] = [currentState, currentPlayer['name'], currentPlayer[\"seat\"], 'sitting out', 0, gameId]\n",
    "            continue\n",
    "        if action.endswith(\"wait BB\"):\n",
    "            gameActionsDf.loc[len(gameActionsDf)] = [currentState, currentPlayer['name'], currentPlayer[\"seat\"], 'wait BB', 0, gameId]\n",
    "            continue\n",
    "        if action.endswith(\"mucks cards\"):\n",
    "            gameActionsDf.loc[len(gameActionsDf)] = [currentState, currentPlayer['name'], currentPlayer[\"seat\"], 'muck', 0, gameId]\n",
    "            continue\n",
    "        if action.endswith(\"folds\"):\n",
    "            gameActionsDf.loc[len(gameActionsDf)] = [currentState, currentPlayer['name'], currentPlayer[\"seat\"], 'fold', 0, gameId]\n",
    "            continue\n",
    "        if action.endswith(\"checks\"):\n",
    "            gameActionsDf.loc[len(gameActionsDf)] = [currentState, currentPlayer['name'], currentPlayer[\"seat\"], 'check', 0, gameId]\n",
    "            continue\n",
    "\n",
    "        actionMatch = actionRe.match(action)\n",
    "        gameActionsDf.loc[len(gameActionsDf)] = [currentState, currentPlayer['name'], currentPlayer[\"seat\"], actionMatch.group(1), float(actionMatch.group(2)), gameId]\n",
    "\n",
    "\n",
    "    # Extract bet values\n",
    "    betGroups = betRe.search(bet).groups()\n",
    "    gamePot = GetAsFloat(betGroups[0])\n",
    "    gameRake = GetAsFloat(betGroups[1])\n",
    "    gameFee = GetAsFloat(betGroups[2])\n",
    "\n",
    "\n",
    "    # Extract board values\n",
    "    boardCards = []\n",
    "    if board:\n",
    "        boardMatch = boardRe.search(board)\n",
    "        boardCards = boardMatch.group(1).split(\" \")\n",
    "\n",
    "\n",
    "    # Extract winnings\n",
    "    for winning in re.sub(\"\\*\", \"\", winnings).split(\"\\n\"):\n",
    "        if winning == \"\":\n",
    "            continue\n",
    "\n",
    "        winningMatches = winningRe.search(winning)\n",
    "        winningCards = winningMatches.group(1)\n",
    "\n",
    "        currentPlayerName = GetPlayerName(winning)\n",
    "        currentPlayer = GetCurrentPlayer(playerDict, currentPlayerName)\n",
    "        \n",
    "        playerGameStatsDf.loc[len(playerGameStatsDf)] = [currentPlayer['name'], winningCards.split(\" \") if winningCards else None, GetAsFloat(winningMatches.group(2)), GetAsFloat(winningMatches.group(3)), GetAsFloat(winningMatches.group(4)), GetAsFloat(winningMatches.group(5)), gameId]\n",
    "\n",
    "\n",
    "    # Extract duration\n",
    "    duration = GetDuration(startTime, endTime)\n",
    "    \n",
    "\n",
    "    # Save result\n",
    "    playersJson = json.dumps(list(playerDict.values()))\n",
    "    seatsJson = json.dumps(seatsInPlay)\n",
    "    boardJson = json.dumps(boardCards)\n",
    "    gameDf.loc[len(gameDf)] = [gameId, duration, button, seatsJson, playersJson, currentState, gamePot, gameRake, gameFee, boardJson]"
   ]
  },
  {
   "cell_type": "code",
   "execution_count": null,
   "id": "d9ccb877",
   "metadata": {
    "execution": {
     "iopub.execute_input": "2023-09-07T19:34:14.076674Z",
     "iopub.status.busy": "2023-09-07T19:34:14.076367Z",
     "iopub.status.idle": "2023-09-07T19:39:16.49444Z",
     "shell.execute_reply": "2023-09-07T19:39:16.493366Z",
     "shell.execute_reply.started": "2023-09-07T19:34:14.076647Z"
    }
   },
   "outputs": [],
   "source": [
    "PrepareTmpFolder(True)\n",
    "totalCount = len(games)\n",
    "\n",
    "for index, currentGame in enumerate(games):\n",
    "    ExtractGameData(currentGame)\n",
    "\n",
    "    if index % 1000 == 0 and index > 0:\n",
    "        SaveTmpDatasets(int(index / 1000))\n",
    "        print (f'{index}/{totalCount} done')\n",
    "\n",
    "print ('All done')"
   ]
  },
  {
   "cell_type": "code",
   "execution_count": null,
   "id": "7c8f9f3c",
   "metadata": {
    "execution": {
     "iopub.execute_input": "2023-09-07T19:39:16.496169Z",
     "iopub.status.busy": "2023-09-07T19:39:16.495839Z",
     "iopub.status.idle": "2023-09-07T19:39:17.473113Z",
     "shell.execute_reply": "2023-09-07T19:39:17.472111Z",
     "shell.execute_reply.started": "2023-09-07T19:39:16.496141Z"
    }
   },
   "outputs": [],
   "source": [
    "tmpFileNames = [gameDataframeFileName, gameActionsDataframeFileName, playerGameStatsDataframeFileName]\n",
    "\n",
    "for tmpFileName in tmpFileNames:\n",
    "    joined_files = os.path.join(tmpPath, f'*-{tmpFileName}')\n",
    "    joined_list = sorted(glob.glob(joined_files))\n",
    "\n",
    "    df = pd.concat(map(pd.read_csv, joined_list), ignore_index=True)\n",
    "    df.to_csv(tmpFileName, index=False)"
   ]
  },
  {
   "cell_type": "code",
   "execution_count": null,
   "id": "e9aee2c0",
   "metadata": {
    "execution": {
     "iopub.execute_input": "2023-09-07T19:39:17.475298Z",
     "iopub.status.busy": "2023-09-07T19:39:17.474378Z",
     "iopub.status.idle": "2023-09-07T19:39:17.485017Z",
     "shell.execute_reply": "2023-09-07T19:39:17.483927Z",
     "shell.execute_reply.started": "2023-09-07T19:39:17.475254Z"
    }
   },
   "outputs": [],
   "source": [
    "# Delete temporary data\n",
    "if os.path.exists('/kaggle/working/tmp'):\n",
    "    files = os.listdir('/kaggle/working/tmp')\n",
    "    for file in files:\n",
    "        file_path = os.path.join('/kaggle/working/tmp', file)\n",
    "        os.remove(file_path)\n",
    "    os.rmdir('/kaggle/working/tmp')"
   ]
  }
 ],
 "metadata": {
  "kernelspec": {
   "display_name": "Python 3 (ipykernel)",
   "language": "python",
   "name": "python3"
  },
  "language_info": {
   "codemirror_mode": {
    "name": "ipython",
    "version": 3
   },
   "file_extension": ".py",
   "mimetype": "text/x-python",
   "name": "python",
   "nbconvert_exporter": "python",
   "pygments_lexer": "ipython3",
   "version": "3.9.18"
  }
 },
 "nbformat": 4,
 "nbformat_minor": 5
}
